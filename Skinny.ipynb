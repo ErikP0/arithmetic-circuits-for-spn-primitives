{
 "cells": [
  {
   "cell_type": "code",
   "execution_count": 1,
   "id": "9d9ef19f",
   "metadata": {},
   "outputs": [],
   "source": [
    "import spnutils\n",
    "import embedding\n",
    "import crv"
   ]
  },
  {
   "cell_type": "markdown",
   "id": "4b8af2dd",
   "metadata": {},
   "source": [
    "### Find suitable field for polynomial interpolation"
   ]
  },
  {
   "cell_type": "code",
   "execution_count": 2,
   "id": "44578b75",
   "metadata": {},
   "outputs": [
    {
     "name": "stdout",
     "output_type": "stream",
     "text": [
      "Best: 14 non-zeros\n",
      "modulus: x^4 + x^3 + 1\n"
     ]
    }
   ],
   "source": [
    "SKINNY_S4 = [0xc, 0x6, 0x9, 0x0, 0x1, 0xa, 0x2, 0xb, 0x3, 0x8, 0x5, 0xd, 0x4, 0xe, 0x7, 0xf]\n",
    "fields, non_zero = spnutils.find_field_for_sparse_interpolation(4, list(range(16)), SKINNY_S4)\n",
    "print(f'Best: {non_zero} non-zeros')\n",
    "for f in fields:\n",
    "    print(f'modulus: {f.modulus()}')"
   ]
  },
  {
   "cell_type": "code",
   "execution_count": 3,
   "id": "10925ff2",
   "metadata": {},
   "outputs": [
    {
     "name": "stdout",
     "output_type": "stream",
     "text": [
      "Best: 13 non-zeros\n",
      "modulus: x^4 + x + 1\n",
      "modulus: x^4 + x^3 + 1\n"
     ]
    }
   ],
   "source": [
    "SKINNY_S4_inv = [0x3, 0x4, 0x6, 0x8, 0xc, 0xa, 0x1, 0xe, 0x9, 0x2, 0x5, 0x7, 0x0, 0xb, 0xd, 0xf]\n",
    "fields, non_zero = spnutils.find_field_for_sparse_interpolation(4, list(range(16)), SKINNY_S4_inv)\n",
    "print(f'Best: {non_zero} non-zeros')\n",
    "for f in fields:\n",
    "    print(f'modulus: {f.modulus()}')"
   ]
  },
  {
   "cell_type": "markdown",
   "id": "a270831e",
   "metadata": {},
   "source": [
    "### Find suitable embedding"
   ]
  },
  {
   "cell_type": "code",
   "execution_count": 4,
   "id": "17a7b930",
   "metadata": {},
   "outputs": [],
   "source": [
    "x = polygen(GF(2), 'x')\n",
    "Y = polygen(GF(2), 'Y')\n",
    "F4 = GF(2**4, name='x', modulus=x**4 + x**3 + 1)\n",
    "F40 = GF(2**40, name='Y', modulus=Y^40 + Y^20 + Y^15 + Y^10 + 1)"
   ]
  },
  {
   "cell_type": "code",
   "execution_count": 5,
   "id": "413d9904",
   "metadata": {
    "scrolled": true
   },
   "outputs": [
    {
     "name": "stdout",
     "output_type": "stream",
     "text": [
      "Embedding from Finite Field in x of size 2^4 to Finite Field in Y of size 2^40 via Y^35 + Y^20 + Y^5 + 1\n"
     ]
    }
   ],
   "source": [
    "emb, _ = embedding.find_min_cost_embedding(F4, F40)\n",
    "print(emb)"
   ]
  },
  {
   "cell_type": "code",
   "execution_count": 6,
   "id": "8c6ad876",
   "metadata": {
    "scrolled": true
   },
   "outputs": [
    {
     "name": "stdout",
     "output_type": "stream",
     "text": [
      "Forward embedding\n",
      "[1 1 1 0]\n",
      "[0 0 0 0]\n",
      "[0 0 0 0]\n",
      "[0 0 0 0]\n",
      "[0 0 0 0]\n",
      "[0 1 1 0]\n",
      "[0 0 0 0]\n",
      "[0 0 0 0]\n",
      "[0 0 0 0]\n",
      "[0 0 0 0]\n",
      "[0 0 0 1]\n",
      "[0 0 0 0]\n",
      "[0 0 0 0]\n",
      "[0 0 0 0]\n",
      "[0 0 0 0]\n",
      "[0 0 1 0]\n",
      "[0 0 0 0]\n",
      "[0 0 0 0]\n",
      "[0 0 0 0]\n",
      "[0 0 0 0]\n",
      "[0 1 0 0]\n",
      "[0 0 0 0]\n",
      "[0 0 0 0]\n",
      "[0 0 0 0]\n",
      "[0 0 0 0]\n",
      "[0 0 0 0]\n",
      "[0 0 0 0]\n",
      "[0 0 0 0]\n",
      "[0 0 0 0]\n",
      "[0 0 0 0]\n",
      "[0 0 0 1]\n",
      "[0 0 0 0]\n",
      "[0 0 0 0]\n",
      "[0 0 0 0]\n",
      "[0 0 0 0]\n",
      "[0 1 0 0]\n",
      "Inverse embedding\n",
      "([1 1 0 0]\n",
      "[0 1 0 1]\n",
      "[0 0 0 1]\n",
      "[0 0 1 0], [0, 5, 10, 15])\n"
     ]
    }
   ],
   "source": [
    "print('Forward embedding')\n",
    "print(emb.bit_embedding())\n",
    "\n",
    "print('Inverse embedding')\n",
    "print(emb.inverse_bit_embedding())"
   ]
  },
  {
   "cell_type": "code",
   "execution_count": 7,
   "id": "e8279d5a",
   "metadata": {},
   "outputs": [
    {
     "name": "stdout",
     "output_type": "stream",
     "text": [
      "[1 0 1 1]\n",
      "[0 0 0 1]\n",
      "[0 1 0 1]\n",
      "[0 0 1 1]\n"
     ]
    }
   ],
   "source": [
    "print(spnutils.gf_squaring(F4))"
   ]
  },
  {
   "cell_type": "code",
   "execution_count": 9,
   "id": "23794e71",
   "metadata": {},
   "outputs": [],
   "source": [
    "SKINNY_S4_F = [spnutils.natural_encoding(F4, x) for x in SKINNY_S4]\n",
    "SKINNY_S4_inv_F = [spnutils.natural_encoding(F4, x) for x in SKINNY_S4_inv]"
   ]
  },
  {
   "cell_type": "markdown",
   "id": "d3da4cd9",
   "metadata": {},
   "source": [
    "### MUL"
   ]
  },
  {
   "cell_type": "code",
   "execution_count": 11,
   "id": "a587de35",
   "metadata": {
    "scrolled": true
   },
   "outputs": [
    {
     "name": "stdout",
     "output_type": "stream",
     "text": [
      "0xc z^0 + 0x8 z^1 + 0x3 z^2 + 0xd z^3 + 0xf z^4 + 0x4 z^5 + 0x8 z^6 + 0x6 z^7 + 0x1 z^8 + 0x9 z^9 + 0x8 z^10 + 0x0 z^11 + 0xe z^12 + 0xc z^13 + 0xb z^14 + 0x0 z^15\n"
     ]
    }
   ],
   "source": [
    "c = spnutils.interpolate(F4, [spnutils.natural_encoding(F4, i) for i in range(16)], SKINNY_S4_F)\n",
    "s = \" + \".join(f'0x{spnutils.natural_encoding_to_int(ci):x} z^{i}' for i,ci in enumerate(c) if c != 0)\n",
    "print(s)"
   ]
  },
  {
   "cell_type": "code",
   "execution_count": 12,
   "id": "af9479f1",
   "metadata": {
    "scrolled": true
   },
   "outputs": [
    {
     "name": "stdout",
     "output_type": "stream",
     "text": [
      "0x3 z^0 + 0xa z^1 + 0x6 z^2 + 0x7 z^3 + 0x5 z^4 + 0xa z^5 + 0x0 z^6 + 0x7 z^7 + 0x9 z^8 + 0x6 z^9 + 0x9 z^10 + 0x0 z^11 + 0x4 z^12 + 0xd z^13 + 0xb z^14 + 0x0 z^15\n"
     ]
    }
   ],
   "source": [
    "c = spnutils.interpolate(F4, [spnutils.natural_encoding(F4, i) for i in range(16)], SKINNY_S4_inv_F)\n",
    "s = \" + \".join(f'0x{spnutils.natural_encoding_to_int(ci):x} z^{i}' for i,ci in enumerate(c) if c != 0)\n",
    "print(s)"
   ]
  },
  {
   "cell_type": "markdown",
   "id": "e62face7",
   "metadata": {},
   "source": [
    "### CRV decomposition"
   ]
  },
  {
   "cell_type": "code",
   "execution_count": 14,
   "id": "b4b981b0",
   "metadata": {},
   "outputs": [],
   "source": [
    "#instance = crv.CRV(F4, [0,1,3])\n",
    "#instance.find_q_polynomials(t=2)\n",
    "\n",
    "# set q polynomial from paper\n",
    "instance = crv.CRV(F4, [0,1,3])\n",
    "q0 = [spnutils.natural_encoding(F4, c) for c in [0x0,0x6,0x4,0xd,0x3,0x4,0x8,0xb,0x8]]\n",
    "instance.set_q_polynomials([q0])"
   ]
  },
  {
   "cell_type": "code",
   "execution_count": 15,
   "id": "60b90e9e",
   "metadata": {},
   "outputs": [],
   "source": [
    "res = instance.polynomial_decomposition(SKINNY_S4)"
   ]
  },
  {
   "cell_type": "code",
   "execution_count": 18,
   "id": "62dd8ca8",
   "metadata": {},
   "outputs": [
    {
     "name": "stdout",
     "output_type": "stream",
     "text": [
      "alphas = [0, 1, 3]\n",
      "L = [0, 1, 2, 3, 4, 6, 8, 9, 12]\n",
      "t = 2\n"
     ]
    }
   ],
   "source": [
    "print(f'alphas = {res.alphas}')\n",
    "print(f'L = {res.L}')\n",
    "print(f't = {res.t}')"
   ]
  },
  {
   "cell_type": "code",
   "execution_count": 19,
   "id": "34993581",
   "metadata": {},
   "outputs": [
    {
     "name": "stdout",
     "output_type": "stream",
     "text": [
      "0x6 z^1,0x4 z^2,0xd z^3,0x3 z^4,0x4 z^6,0x8 z^8,0xb z^9,0x8 z^12\n"
     ]
    }
   ],
   "source": [
    "for q in res.q:\n",
    "    print(','.join(f'0x{spnutils.natural_encoding_to_int(c):x} z^{i}' for i,c in enumerate(q.coefficients(sparse=False)) if c != 0))"
   ]
  },
  {
   "cell_type": "code",
   "execution_count": 22,
   "id": "fde437c3",
   "metadata": {},
   "outputs": [
    {
     "name": "stdout",
     "output_type": "stream",
     "text": [
      "p_0: 0x1 z^0 + 0xc z^1 + 0xf z^2 + 0x1 z^3 + 0x5 z^4 + 0x2 z^5 + 0xb z^6 + 0xb z^7\n",
      "p_1: 0xc z^0 + 0x3 z^1 + 0x8 z^3 + 0xe z^4 + 0xa z^5 + 0x9 z^7\n"
     ]
    }
   ],
   "source": [
    "for j,p in enumerate(res.p):\n",
    "    pi = [F4(list(c)[0]) for c in p]\n",
    "    print(f'p_{j}: ' + ' + '.join(f'0x{spnutils.natural_encoding_to_int(c):x} z^{i}' for i,c in enumerate(pi) if c != 0))"
   ]
  },
  {
   "cell_type": "markdown",
   "id": "db4d5e7f",
   "metadata": {},
   "source": [
    "### CRV decomposition for inverse S-box"
   ]
  },
  {
   "cell_type": "code",
   "execution_count": 24,
   "id": "9a16468c",
   "metadata": {},
   "outputs": [
    {
     "name": "stdout",
     "output_type": "stream",
     "text": [
      "p0: 0x7 + 0x7 + 0x7 + 0x9 + 0x3 + 0xa + 0xc + 0xf + 0x7\n",
      "p1: 0x3 + 0xd + 0x4 + 0xf + 0x5 + 0x7 + 0x0 + 0x6 + 0x0\n"
     ]
    }
   ],
   "source": [
    "res_inv = instance.polynomial_decomposition(SKINNY_S4_inv)\n",
    "for i,p in enumerate(res_inv.p):\n",
    "    print(f'p{i}: ' + ' + '.join(f'0x{spnutils.natural_encoding_to_int(pi[0]):x}' for pi in p))"
   ]
  },
  {
   "cell_type": "code",
   "execution_count": 26,
   "id": "aa50dd78",
   "metadata": {},
   "outputs": [],
   "source": [
    "# test correctness of the decomposition\n",
    "\n",
    "Z = polygen(GF(2), 'Z')\n",
    "p0 = sum(spnutils.natural_encoding(F4, c) * Z**i for i,c in enumerate([0x1,0xc,0xf,0x1,0x5,0x2,0xb,0xb,0x0]))\n",
    "p1 = sum(spnutils.natural_encoding(F4, c) * Z**i for i,c in enumerate([0xc,0x3,0x0,0x8,0xe,0xa,0x0,0x9,0x0]))\n",
    "q0 = sum(spnutils.natural_encoding(F4, c) * Z**i for i,c in enumerate([0x0,0x6,0x4,0xd,0x3,0x4,0x8,0xb,0x8]))\n",
    "\n",
    "def eval_crv(x):\n",
    "    return p0(x) * q0(x) + p1(x)\n",
    "\n",
    "for x,y in enumerate(SKINNY_S4):\n",
    "    x_f = spnutils.natural_encoding(F4, x)\n",
    "    e = res.compute(x_f)[0]#eval_crv(x_f)\n",
    "    y_f = spnutils.natural_encoding(F4, y)\n",
    "    #e = spnutils.natural_encoding_to_int(e)\n",
    "    assert e == y_f, f'x=0x{x:x}, e=0x{e}, y=0x{y_f}'"
   ]
  },
  {
   "cell_type": "markdown",
   "id": "6cd47b01",
   "metadata": {},
   "source": [
    "# SKINNY's 8-bit S-box"
   ]
  },
  {
   "cell_type": "code",
   "execution_count": 27,
   "id": "6a1f3035",
   "metadata": {},
   "outputs": [
    {
     "name": "stdout",
     "output_type": "stream",
     "text": [
      "Best: 244 non-zeros\n",
      "modulus: x^8 + x^6 + x^5 + x^4 + x^3 + x + 1\n",
      "modulus: x^8 + x^7 + x^6 + x^5 + x^4 + x^2 + 1\n"
     ]
    }
   ],
   "source": [
    "SKINNY_S8 = [\n",
    "    0x65, 0x4c, 0x6a, 0x42, 0x4b, 0x63, 0x43, 0x6b, 0x55, 0x75, 0x5a, 0x7a, 0x53, 0x73, 0x5b,\n",
    "    0x7b, 0x35, 0x8c, 0x3a, 0x81, 0x89, 0x33, 0x80, 0x3b, 0x95, 0x25, 0x98, 0x2a, 0x90, 0x23,\n",
    "    0x99, 0x2b, 0xe5, 0xcc, 0xe8, 0xc1, 0xc9, 0xe0, 0xc0, 0xe9, 0xd5, 0xf5, 0xd8, 0xf8, 0xd0,\n",
    "    0xf0, 0xd9, 0xf9, 0xa5, 0x1c, 0xa8, 0x12, 0x1b, 0xa0, 0x13, 0xa9, 0x05, 0xb5, 0x0a, 0xb8,\n",
    "    0x03, 0xb0, 0x0b, 0xb9, 0x32, 0x88, 0x3c, 0x85, 0x8d, 0x34, 0x84, 0x3d, 0x91, 0x22, 0x9c,\n",
    "    0x2c, 0x94, 0x24, 0x9d, 0x2d, 0x62, 0x4a, 0x6c, 0x45, 0x4d, 0x64, 0x44, 0x6d, 0x52, 0x72,\n",
    "    0x5c, 0x7c, 0x54, 0x74, 0x5d, 0x7d, 0xa1, 0x1a, 0xac, 0x15, 0x1d, 0xa4, 0x14, 0xad, 0x02,\n",
    "    0xb1, 0x0c, 0xbc, 0x04, 0xb4, 0x0d, 0xbd, 0xe1, 0xc8, 0xec, 0xc5, 0xcd, 0xe4, 0xc4, 0xed,\n",
    "    0xd1, 0xf1, 0xdc, 0xfc, 0xd4, 0xf4, 0xdd, 0xfd, 0x36, 0x8e, 0x38, 0x82, 0x8b, 0x30, 0x83,\n",
    "    0x39, 0x96, 0x26, 0x9a, 0x28, 0x93, 0x20, 0x9b, 0x29, 0x66, 0x4e, 0x68, 0x41, 0x49, 0x60,\n",
    "    0x40, 0x69, 0x56, 0x76, 0x58, 0x78, 0x50, 0x70, 0x59, 0x79, 0xa6, 0x1e, 0xaa, 0x11, 0x19,\n",
    "    0xa3, 0x10, 0xab, 0x06, 0xb6, 0x08, 0xba, 0x00, 0xb3, 0x09, 0xbb, 0xe6, 0xce, 0xea, 0xc2,\n",
    "    0xcb, 0xe3, 0xc3, 0xeb, 0xd6, 0xf6, 0xda, 0xfa, 0xd3, 0xf3, 0xdb, 0xfb, 0x31, 0x8a, 0x3e,\n",
    "    0x86, 0x8f, 0x37, 0x87, 0x3f, 0x92, 0x21, 0x9e, 0x2e, 0x97, 0x27, 0x9f, 0x2f, 0x61, 0x48,\n",
    "    0x6e, 0x46, 0x4f, 0x67, 0x47, 0x6f, 0x51, 0x71, 0x5e, 0x7e, 0x57, 0x77, 0x5f, 0x7f, 0xa2,\n",
    "    0x18, 0xae, 0x16, 0x1f, 0xa7, 0x17, 0xaf, 0x01, 0xb2, 0x0e, 0xbe, 0x07, 0xb7, 0x0f, 0xbf,\n",
    "    0xe2, 0xca, 0xee, 0xc6, 0xcf, 0xe7, 0xc7, 0xef, 0xd2, 0xf2, 0xde, 0xfe, 0xd7, 0xf7, 0xdf,\n",
    "    0xff]\n",
    "fields, non_zero = spnutils.find_field_for_sparse_interpolation(8, list(range(256)), SKINNY_S8)\n",
    "print(f'Best: {non_zero} non-zeros')\n",
    "for f in fields:\n",
    "    print(f'modulus: {f.modulus()}')"
   ]
  },
  {
   "cell_type": "code",
   "execution_count": 28,
   "id": "034cc764",
   "metadata": {},
   "outputs": [
    {
     "name": "stdout",
     "output_type": "stream",
     "text": [
      "Best: 241 non-zeros\n",
      "modulus: x^8 + x^7 + x^6 + x^5 + x^4 + x^2 + 1\n"
     ]
    }
   ],
   "source": [
    "SKINNY_S8_inv = [SKINNY_S8.index(i) for i in range(256)]\n",
    "fields, non_zero = spnutils.find_field_for_sparse_interpolation(8, list(range(256)), SKINNY_S8_inv)\n",
    "print(f'Best: {non_zero} non-zeros')\n",
    "for f in fields:\n",
    "    print(f'modulus: {f.modulus()}')"
   ]
  },
  {
   "cell_type": "code",
   "execution_count": 29,
   "id": "9892341a",
   "metadata": {},
   "outputs": [],
   "source": [
    "x = polygen(GF(2), 'x')\n",
    "Y = polygen(GF(2), 'Y')\n",
    "F8 = GF(2**8, name='x', modulus=x^8 + x^7 + x^6 + x^5 + x^4 + x^2 + 1)\n",
    "F40 = GF(2**40, name='Y', modulus=Y^40 + Y^20 + Y^15 + Y^10 + 1)"
   ]
  },
  {
   "cell_type": "code",
   "execution_count": 30,
   "id": "5f0a37aa",
   "metadata": {
    "scrolled": true
   },
   "outputs": [
    {
     "name": "stdout",
     "output_type": "stream",
     "text": [
      "38\n",
      "Embedding from Finite Field in x of size 2^8 to Finite Field in Y of size 2^40 via Y^35 + Y^30 + Y^25 + Y^20 + Y^10 + Y^5\n"
     ]
    }
   ],
   "source": [
    "emb, cost = embedding.find_min_cost_embedding(F8, F40)\n",
    "print(cost)\n",
    "print(emb)"
   ]
  },
  {
   "cell_type": "code",
   "execution_count": 31,
   "id": "451e6bc3",
   "metadata": {
    "scrolled": true
   },
   "outputs": [
    {
     "name": "stdout",
     "output_type": "stream",
     "text": [
      "Forward embedding\n",
      "[1 0 1 0 0 1 1 1]\n",
      "[0 0 0 0 0 0 0 0]\n",
      "[0 0 0 0 0 0 0 0]\n",
      "[0 0 0 0 0 0 0 0]\n",
      "[0 0 0 0 0 0 0 0]\n",
      "[0 1 1 1 1 0 0 0]\n",
      "[0 0 0 0 0 0 0 0]\n",
      "[0 0 0 0 0 0 0 0]\n",
      "[0 0 0 0 0 0 0 0]\n",
      "[0 0 0 0 0 0 0 0]\n",
      "[0 1 0 0 0 0 1 0]\n",
      "[0 0 0 0 0 0 0 0]\n",
      "[0 0 0 0 0 0 0 0]\n",
      "[0 0 0 0 0 0 0 0]\n",
      "[0 0 0 0 0 0 0 0]\n",
      "[0 0 0 1 0 0 1 0]\n",
      "[0 0 0 0 0 0 0 0]\n",
      "[0 0 0 0 0 0 0 0]\n",
      "[0 0 0 0 0 0 0 0]\n",
      "[0 0 0 0 0 0 0 0]\n",
      "[0 1 0 1 0 1 0 0]\n",
      "[0 0 0 0 0 0 0 0]\n",
      "[0 0 0 0 0 0 0 0]\n",
      "[0 0 0 0 0 0 0 0]\n",
      "[0 0 0 0 0 0 0 0]\n",
      "[0 1 1 1 1 0 1 0]\n",
      "[0 0 0 0 0 0 0 0]\n",
      "[0 0 0 0 0 0 0 0]\n",
      "[0 0 0 0 0 0 0 0]\n",
      "[0 0 0 0 0 0 0 0]\n",
      "[0 1 0 0 1 0 0 1]\n",
      "[0 0 0 0 0 0 0 0]\n",
      "[0 0 0 0 0 0 0 0]\n",
      "[0 0 0 0 0 0 0 0]\n",
      "[0 0 0 0 0 0 0 0]\n",
      "[0 1 1 0 0 0 0 0]\n",
      "Inverse embedding\n",
      "([1 1 1 0 1 0 1 0]\n",
      "[0 1 1 0 0 1 0 0]\n",
      "[0 1 1 0 0 1 0 1]\n",
      "[0 1 0 1 0 1 0 0]\n",
      "[0 0 0 1 0 1 0 1]\n",
      "[0 0 1 1 1 0 0 0]\n",
      "[0 1 0 0 0 1 0 0]\n",
      "[0 1 1 1 0 0 1 1], [0, 5, 10, 15, 20, 25, 30, 35])\n"
     ]
    }
   ],
   "source": [
    "print('Forward embedding')\n",
    "print(emb.bit_embedding())\n",
    "\n",
    "print('Inverse embedding')\n",
    "print(emb.inverse_bit_embedding())"
   ]
  },
  {
   "cell_type": "code",
   "execution_count": 33,
   "id": "67e6c97d",
   "metadata": {},
   "outputs": [
    {
     "name": "stdout",
     "output_type": "stream",
     "text": [
      "y0 = x0 + x2 + x5 + x6 + x7\n",
      "y5 = x1 + x2 + x3 + x4\n",
      "y10 = x1 + x6\n",
      "y15 = x3 + x6\n",
      "y20 = x1 + x3 + x5\n",
      "y25 = x1 + x2 + x3 + x4 + x6\n",
      "y30 = x1 + x4 + x7\n",
      "y35 = x1 + x2\n"
     ]
    }
   ],
   "source": [
    "emb.print_impl_forward()"
   ]
  },
  {
   "cell_type": "code",
   "execution_count": 34,
   "id": "e78b351a",
   "metadata": {},
   "outputs": [
    {
     "name": "stdout",
     "output_type": "stream",
     "text": [
      "x0 = y0 + y5 + y10 + y20 + y30\n",
      "x1 = y5 + y10 + y25\n",
      "x2 = y5 + y10 + y25 + y35\n",
      "x3 = y5 + y15 + y25\n",
      "x4 = y15 + y25 + y35\n",
      "x5 = y10 + y15 + y20\n",
      "x6 = y5 + y25\n",
      "x7 = y5 + y10 + y15 + y30 + y35\n"
     ]
    }
   ],
   "source": [
    "emb.print_impl_backward()"
   ]
  },
  {
   "cell_type": "code",
   "execution_count": 35,
   "id": "8a983a49",
   "metadata": {},
   "outputs": [
    {
     "data": {
      "text/plain": [
       "[1 0 0 0 1 0 0 0]\n",
       "[0 0 0 0 0 1 0 1]\n",
       "[0 1 0 0 1 1 0 0]\n",
       "[0 0 0 0 0 1 1 1]\n",
       "[0 0 1 0 1 1 1 0]\n",
       "[0 0 0 0 1 1 1 0]\n",
       "[0 0 0 1 1 0 1 0]\n",
       "[0 0 0 0 1 0 1 0]"
      ]
     },
     "execution_count": 35,
     "metadata": {},
     "output_type": "execute_result"
    }
   ],
   "source": [
    "spnutils.gf_squaring(F8)"
   ]
  },
  {
   "cell_type": "markdown",
   "id": "6be15cbe-8003-4ca2-9019-33073471e1a5",
   "metadata": {},
   "source": [
    "# CRV decomposition paramters for the 8-bit S-box"
   ]
  },
  {
   "cell_type": "code",
   "execution_count": 37,
   "id": "36c75ebe",
   "metadata": {},
   "outputs": [
    {
     "name": "stdout",
     "output_type": "stream",
     "text": [
      "round 1: [0, 1, 2, 4, 8, 16, 32, 64, 128]\n"
     ]
    }
   ],
   "source": [
    "def next_cyclotomic_classes(L, start):\n",
    "    \"\"\" \n",
    "    Prints the number of elements that will be added to the set L, i.e., the computable powers in the decomposition, for each base value\n",
    "    ranging from start until 254\n",
    "    \"\"\"\n",
    "    L = set(L)\n",
    "    for i in range(start, 2**8-1):\n",
    "        class_i = set(crv._generate_cyclotomic_class(8,i))\n",
    "        new = len(class_i) - len(class_i & L)\n",
    "        if new > 0:\n",
    "            print(f'{i}: {new}')\n",
    "r1 = sorted({0,1} | crv._generate_cyclotomic_class(8, 2))\n",
    "print(f'round 1: {r1}')\n"
   ]
  },
  {
   "cell_type": "code",
   "execution_count": 38,
   "id": "abf98c25",
   "metadata": {},
   "outputs": [
    {
     "name": "stdout",
     "output_type": "stream",
     "text": [
      "33\n",
      "7: 8\n",
      "11: 8\n",
      "13: 8\n",
      "14: 8\n",
      "15: 8\n",
      "17: 4\n",
      "19: 8\n",
      "21: 8\n",
      "22: 8\n",
      "23: 8\n",
      "25: 8\n",
      "26: 8\n",
      "27: 8\n",
      "28: 8\n",
      "29: 8\n",
      "30: 8\n",
      "31: 8\n",
      "34: 4\n",
      "35: 8\n",
      "37: 8\n",
      "38: 8\n",
      "39: 8\n",
      "41: 8\n",
      "42: 8\n",
      "43: 8\n",
      "44: 8\n",
      "45: 8\n",
      "46: 8\n",
      "47: 8\n",
      "49: 8\n",
      "50: 8\n",
      "51: 4\n",
      "52: 8\n",
      "53: 8\n",
      "54: 8\n",
      "55: 8\n",
      "56: 8\n",
      "57: 8\n",
      "58: 8\n",
      "59: 8\n",
      "60: 8\n",
      "61: 8\n",
      "62: 8\n",
      "63: 8\n",
      "67: 8\n",
      "68: 4\n",
      "69: 8\n",
      "70: 8\n",
      "71: 8\n",
      "73: 8\n",
      "74: 8\n",
      "75: 8\n",
      "76: 8\n",
      "77: 8\n",
      "78: 8\n",
      "79: 8\n",
      "81: 8\n",
      "82: 8\n",
      "83: 8\n",
      "84: 8\n",
      "85: 2\n",
      "86: 8\n",
      "87: 8\n",
      "88: 8\n",
      "89: 8\n",
      "90: 8\n",
      "91: 8\n",
      "92: 8\n",
      "93: 8\n",
      "94: 8\n",
      "95: 8\n",
      "97: 8\n",
      "98: 8\n",
      "99: 8\n",
      "100: 8\n",
      "101: 8\n",
      "102: 4\n",
      "103: 8\n",
      "104: 8\n",
      "105: 8\n",
      "106: 8\n",
      "107: 8\n",
      "108: 8\n",
      "109: 8\n",
      "110: 8\n",
      "111: 8\n",
      "112: 8\n",
      "113: 8\n",
      "114: 8\n",
      "115: 8\n",
      "116: 8\n",
      "117: 8\n",
      "118: 8\n",
      "119: 4\n",
      "120: 8\n",
      "121: 8\n",
      "122: 8\n",
      "123: 8\n",
      "124: 8\n",
      "125: 8\n",
      "126: 8\n",
      "127: 8\n",
      "131: 8\n",
      "133: 8\n",
      "134: 8\n",
      "135: 8\n",
      "136: 4\n",
      "137: 8\n",
      "138: 8\n",
      "139: 8\n",
      "140: 8\n",
      "141: 8\n",
      "142: 8\n",
      "143: 8\n",
      "145: 8\n",
      "146: 8\n",
      "147: 8\n",
      "148: 8\n",
      "149: 8\n",
      "150: 8\n",
      "151: 8\n",
      "152: 8\n",
      "153: 4\n",
      "154: 8\n",
      "155: 8\n",
      "156: 8\n",
      "157: 8\n",
      "158: 8\n",
      "159: 8\n",
      "161: 8\n",
      "162: 8\n",
      "163: 8\n",
      "164: 8\n",
      "165: 8\n",
      "166: 8\n",
      "167: 8\n",
      "168: 8\n",
      "169: 8\n",
      "170: 2\n",
      "171: 8\n",
      "172: 8\n",
      "173: 8\n",
      "174: 8\n",
      "175: 8\n",
      "176: 8\n",
      "177: 8\n",
      "178: 8\n",
      "179: 8\n",
      "180: 8\n",
      "181: 8\n",
      "182: 8\n",
      "183: 8\n",
      "184: 8\n",
      "185: 8\n",
      "186: 8\n",
      "187: 4\n",
      "188: 8\n",
      "189: 8\n",
      "190: 8\n",
      "191: 8\n",
      "193: 8\n",
      "194: 8\n",
      "195: 8\n",
      "196: 8\n",
      "197: 8\n",
      "198: 8\n",
      "199: 8\n",
      "200: 8\n",
      "201: 8\n",
      "202: 8\n",
      "203: 8\n",
      "204: 4\n",
      "205: 8\n",
      "206: 8\n",
      "207: 8\n",
      "208: 8\n",
      "209: 8\n",
      "210: 8\n",
      "211: 8\n",
      "212: 8\n",
      "213: 8\n",
      "214: 8\n",
      "215: 8\n",
      "216: 8\n",
      "217: 8\n",
      "218: 8\n",
      "219: 8\n",
      "220: 8\n",
      "221: 4\n",
      "222: 8\n",
      "223: 8\n",
      "224: 8\n",
      "225: 8\n",
      "226: 8\n",
      "227: 8\n",
      "228: 8\n",
      "229: 8\n",
      "230: 8\n",
      "231: 8\n",
      "232: 8\n",
      "233: 8\n",
      "234: 8\n",
      "235: 8\n",
      "236: 8\n",
      "237: 8\n",
      "238: 4\n",
      "239: 8\n",
      "240: 8\n",
      "241: 8\n",
      "242: 8\n",
      "243: 8\n",
      "244: 8\n",
      "245: 8\n",
      "246: 8\n",
      "247: 8\n",
      "248: 8\n",
      "249: 8\n",
      "250: 8\n",
      "251: 8\n",
      "252: 8\n",
      "253: 8\n",
      "254: 8\n",
      "round 2: [0, 1, 2, 3, 4, 5, 6, 8, 9, 10, 12, 16, 18, 20, 24, 32, 33, 36, 40, 48, 64, 65, 66, 72, 80, 96, 128, 129, 130, 132, 144, 160, 192]\n"
     ]
    }
   ],
   "source": [
    "r2 = sorted(set(r1) | crv._generate_cyclotomic_class(8, 3) \n",
    "            | crv._generate_cyclotomic_class(8, 5) \n",
    "            | crv._generate_cyclotomic_class(8, 9))\n",
    "print(len(r2))\n",
    "next_cyclotomic_classes(r2,4)\n",
    "print(f'round 2: {r2}')"
   ]
  },
  {
   "cell_type": "code",
   "execution_count": 39,
   "id": "4a99d49c",
   "metadata": {},
   "outputs": [
    {
     "name": "stdout",
     "output_type": "stream",
     "text": [
      "41\n",
      "11: 8\n",
      "13: 8\n",
      "15: 8\n",
      "17: 4\n",
      "19: 8\n",
      "21: 8\n",
      "22: 8\n",
      "23: 8\n",
      "25: 8\n",
      "26: 8\n",
      "27: 8\n",
      "29: 8\n",
      "30: 8\n",
      "31: 8\n",
      "34: 4\n",
      "35: 8\n",
      "37: 8\n",
      "38: 8\n",
      "39: 8\n",
      "41: 8\n",
      "42: 8\n",
      "43: 8\n",
      "44: 8\n",
      "45: 8\n",
      "46: 8\n",
      "47: 8\n",
      "49: 8\n",
      "50: 8\n",
      "51: 4\n",
      "52: 8\n",
      "53: 8\n",
      "54: 8\n",
      "55: 8\n",
      "57: 8\n",
      "58: 8\n",
      "59: 8\n",
      "60: 8\n",
      "61: 8\n",
      "62: 8\n",
      "63: 8\n",
      "67: 8\n",
      "68: 4\n",
      "69: 8\n",
      "70: 8\n",
      "71: 8\n",
      "73: 8\n",
      "74: 8\n",
      "75: 8\n",
      "76: 8\n",
      "77: 8\n",
      "78: 8\n",
      "79: 8\n",
      "81: 8\n",
      "82: 8\n",
      "83: 8\n",
      "84: 8\n",
      "85: 2\n",
      "86: 8\n",
      "87: 8\n",
      "88: 8\n",
      "89: 8\n",
      "90: 8\n",
      "91: 8\n",
      "92: 8\n",
      "93: 8\n",
      "94: 8\n",
      "95: 8\n",
      "97: 8\n",
      "98: 8\n",
      "99: 8\n",
      "100: 8\n",
      "101: 8\n",
      "102: 4\n",
      "103: 8\n",
      "104: 8\n",
      "105: 8\n",
      "106: 8\n",
      "107: 8\n",
      "108: 8\n",
      "109: 8\n",
      "110: 8\n",
      "111: 8\n",
      "113: 8\n",
      "114: 8\n",
      "115: 8\n",
      "116: 8\n",
      "117: 8\n",
      "118: 8\n",
      "119: 4\n",
      "120: 8\n",
      "121: 8\n",
      "122: 8\n",
      "123: 8\n",
      "124: 8\n",
      "125: 8\n",
      "126: 8\n",
      "127: 8\n",
      "133: 8\n",
      "134: 8\n",
      "135: 8\n",
      "136: 4\n",
      "137: 8\n",
      "138: 8\n",
      "139: 8\n",
      "140: 8\n",
      "141: 8\n",
      "142: 8\n",
      "143: 8\n",
      "145: 8\n",
      "146: 8\n",
      "147: 8\n",
      "148: 8\n",
      "149: 8\n",
      "150: 8\n",
      "151: 8\n",
      "152: 8\n",
      "153: 4\n",
      "154: 8\n",
      "155: 8\n",
      "156: 8\n",
      "157: 8\n",
      "158: 8\n",
      "159: 8\n",
      "161: 8\n",
      "162: 8\n",
      "163: 8\n",
      "164: 8\n",
      "165: 8\n",
      "166: 8\n",
      "167: 8\n",
      "168: 8\n",
      "169: 8\n",
      "170: 2\n",
      "171: 8\n",
      "172: 8\n",
      "173: 8\n",
      "174: 8\n",
      "175: 8\n",
      "176: 8\n",
      "177: 8\n",
      "178: 8\n",
      "179: 8\n",
      "180: 8\n",
      "181: 8\n",
      "182: 8\n",
      "183: 8\n",
      "184: 8\n",
      "185: 8\n",
      "186: 8\n",
      "187: 4\n",
      "188: 8\n",
      "189: 8\n",
      "190: 8\n",
      "191: 8\n",
      "194: 8\n",
      "195: 8\n",
      "196: 8\n",
      "197: 8\n",
      "198: 8\n",
      "199: 8\n",
      "200: 8\n",
      "201: 8\n",
      "202: 8\n",
      "203: 8\n",
      "204: 4\n",
      "205: 8\n",
      "206: 8\n",
      "207: 8\n",
      "208: 8\n",
      "209: 8\n",
      "210: 8\n",
      "211: 8\n",
      "212: 8\n",
      "213: 8\n",
      "214: 8\n",
      "215: 8\n",
      "216: 8\n",
      "217: 8\n",
      "218: 8\n",
      "219: 8\n",
      "220: 8\n",
      "221: 4\n",
      "222: 8\n",
      "223: 8\n",
      "225: 8\n",
      "226: 8\n",
      "227: 8\n",
      "228: 8\n",
      "229: 8\n",
      "230: 8\n",
      "231: 8\n",
      "232: 8\n",
      "233: 8\n",
      "234: 8\n",
      "235: 8\n",
      "236: 8\n",
      "237: 8\n",
      "238: 4\n",
      "239: 8\n",
      "240: 8\n",
      "241: 8\n",
      "242: 8\n",
      "243: 8\n",
      "244: 8\n",
      "245: 8\n",
      "246: 8\n",
      "247: 8\n",
      "248: 8\n",
      "249: 8\n",
      "250: 8\n",
      "251: 8\n",
      "252: 8\n",
      "253: 8\n",
      "254: 8\n"
     ]
    }
   ],
   "source": [
    "r3 = sorted(set(r2) | crv._generate_cyclotomic_class(8, 7) \n",
    "            )\n",
    "print(len(r3))\n",
    "next_cyclotomic_classes(r3,1)"
   ]
  },
  {
   "cell_type": "code",
   "execution_count": 40,
   "id": "0946f4aa",
   "metadata": {},
   "outputs": [
    {
     "name": "stdout",
     "output_type": "stream",
     "text": [
      "[0, 1, 2, 3, 5, 9, 17, 23]: found\n",
      "[0, 1, 2, 3, 5, 9, 17, 27]: found\n",
      "[0, 1, 2, 3, 5, 9, 17, 39]: found\n"
     ]
    }
   ],
   "source": [
    "for alphas in [\n",
    "    [0,1,2,3, 5, 23],\n",
    "    [0,1,2,3, 5, 27],\n",
    "    [0,1,2,3, 5, 39],\n",
    "    [0,1,2,3, 5, 9, 23],\n",
    "    [0,1,2,3, 5, 9, 27],\n",
    "    [0,1,2,3, 5, 9, 39],\n",
    "    [0,1,2,3, 5, 9, 17, 23],\n",
    "    [0,1,2,3, 5, 9, 17, 27],\n",
    "    [0,1,2,3, 5, 9, 17, 39],\n",
    "]:\n",
    "    i = crv.CRV(F8, alphas)\n",
    "    try:\n",
    "        i.find_q_polynomials(tries=3, check_full_rank=False, sbox=[spnutils.natural_encoding(F8, x) for x in SKINNY_S8]) \n",
    "        print(f'{alphas}: found')\n",
    "    except ValueError:\n",
    "        pass"
   ]
  },
  {
   "cell_type": "code",
   "execution_count": 41,
   "id": "e8d42d2e",
   "metadata": {
    "scrolled": true
   },
   "outputs": [
    {
     "name": "stdout",
     "output_type": "stream",
     "text": [
      "41\n"
     ]
    },
    {
     "data": {
      "text/plain": [
       "[(x^5 + x^4)*z^224 + (x^4 + x^3)*z^194 + (x^4 + x^2 + x + 1)*z^193 + (x^7 + x^6 + x^4 + x^3)*z^192 + (x^4 + x^2 + x + 1)*z^176 + (x^6 + x^3 + 1)*z^160 + (x^7 + x^5 + 1)*z^133 + (x^7 + x^5 + x^2)*z^131 + (x^6 + x^4 + 1)*z^130 + (x^6 + x^5 + x^4 + x)*z^129 + (x^7 + x^6 + x^5 + x^3 + x^2 + 1)*z^128 + (x^6 + x^4 + x)*z^112 + (x^6 + x^4 + x^2 + 1)*z^97 + (x^7 + x^5 + x^4 + x^3 + x^2 + 1)*z^96 + (x^7 + x^4 + x^3 + x^2 + x)*z^88 + (x^7 + x^6 + x^2 + x)*z^80 + (x^7 + x^3 + x^2 + x)*z^65 + (x^7 + x^4 + x^2 + x)*z^64 + (x^3 + 1)*z^56 + (x^6 + x^5 + x^4 + x^3 + 1)*z^48 + (x^6 + x^5 + x^2 + x)*z^44 + (x^5 + x^4 + x^2)*z^40 + (x^7 + x^5 + x^4 + x^3 + x^2 + x)*z^32 + (x^5 + x^2 + 1)*z^28 + (x^7 + x^5 + x^3 + x^2 + x + 1)*z^24 + (x^6 + x^2 + x)*z^22 + (x^6 + x^5 + x^4 + x^3)*z^20 + x^4*z^16 + (x^7 + x^5 + x^4 + x^2 + x)*z^14 + (x^7 + x^5 + x^4)*z^12 + (x^7 + x^6 + x^5 + x^2)*z^11 + (x^7 + x^6 + x^5 + x^4 + x)*z^10 + (x^7 + x^3 + x)*z^8 + (x^5 + x^3 + x^2 + 1)*z^7 + (x^7 + x^6 + x^5 + x^4 + x^3 + x^2 + x + 1)*z^6 + (x^6 + x^4 + x^2 + x + 1)*z^5 + (x^7 + x^5 + x^4 + x)*z^4 + (x^6 + x^3 + 1)*z^3 + (x^6 + x^5 + x^4 + x^3 + x^2)*z^2 + (x^7 + x^4 + x)*z + x^7 + x^6 + x^5 + x^4 + x + 1,\n",
       " (x^7 + x^5 + x^3 + x^2 + x)*z^224 + (x^6 + x^4 + x^3 + x)*z^194 + (x^6 + x^4 + x^3 + x^2)*z^193 + (x^7 + x^3 + 1)*z^192 + (x^6 + x^5 + x^3 + x^2 + x + 1)*z^176 + (x^6 + x^5 + x^3 + x + 1)*z^160 + (x^5 + x^2)*z^133 + (x^7 + x^6 + x^5 + x^4 + x^3 + 1)*z^131 + (x^7 + x^6 + x^4 + x^3 + x^2 + x + 1)*z^130 + z^129 + (x^5 + x^4 + x^3 + x^2)*z^128 + (x^7 + x^5 + x^4 + x^3 + x + 1)*z^112 + (x^6 + x^5 + x^2 + x)*z^97 + (x^6 + x^4 + x^2 + x + 1)*z^96 + (x^7 + x^6 + 1)*z^88 + (x^5 + x^4 + x^3 + x^2)*z^80 + (x^5 + x^4 + x^2 + x + 1)*z^65 + (x^7 + x^6 + x^5 + x^3 + x)*z^64 + (x^7 + x^6 + x^4 + 1)*z^56 + (x^5 + x^3 + x^2)*z^48 + (x^4 + x^3 + x^2 + 1)*z^44 + (x^4 + x^2 + 1)*z^40 + (x^7 + x^5 + x^3 + x^2 + 1)*z^32 + (x^6 + x^5 + x^4 + x^2 + 1)*z^28 + (x^6 + x^3 + x^2 + x)*z^24 + (x^3 + x)*z^22 + (x^7 + x^6 + x^3 + 1)*z^20 + (x^7 + x^6 + x^5 + x^4 + x^2 + x)*z^16 + (x^6 + x^4 + x^3 + 1)*z^14 + (x^5 + x^4 + 1)*z^12 + (x^7 + x^4 + x^3 + x^2)*z^11 + (x^5 + x^3 + x^2)*z^10 + x^3*z^8 + (x^5 + x^4)*z^7 + z^6 + (x^5 + x^3 + x^2 + x + 1)*z^5 + (x^4 + x^2 + x)*z^4 + (x^7 + x^6 + x)*z^3 + (x^3 + x^2 + x)*z^2 + (x^5 + x^4 + x^3 + x)*z + x^5 + x^4 + x^3,\n",
       " (x^7 + x^6 + x^5 + x^3 + x^2 + 1)*z^224 + (x^7 + x^4 + x^3 + 1)*z^194 + (x^7 + x^6 + x^3 + x^2 + x + 1)*z^193 + (x^5 + x^3 + x^2 + x + 1)*z^192 + (x^6 + x^3 + 1)*z^176 + (x^7 + x^5 + x^3)*z^160 + (x^7 + x^6 + x^5 + x + 1)*z^133 + (x^7 + x^6 + x^4 + x^3 + x + 1)*z^131 + (x^5 + x^4 + x^2 + x)*z^130 + (x^7 + x^6 + x^3 + 1)*z^129 + (x^6 + x^5 + x^4 + x^2 + x + 1)*z^128 + (x^6 + x^5 + x + 1)*z^112 + (x^7 + x^6 + x^2 + x)*z^97 + (x^6 + x^5 + x^3 + 1)*z^96 + (x^5 + x^4 + x^3 + x)*z^88 + (x^7 + x^5)*z^80 + (x^7 + x^6 + x^5 + x^4 + x^3 + x^2)*z^65 + (x^7 + x^2 + x + 1)*z^64 + (x^7 + x^5 + x^4)*z^56 + (x^7 + x^5 + x^4 + x^3)*z^48 + (x^7 + x^5 + x^2 + x)*z^44 + (x^7 + x^5 + x^2)*z^40 + (x^7 + x^6 + x^5 + x^4 + x^3)*z^32 + x^4*z^28 + (x^7 + x^6 + x^5 + x^4 + x^3 + x^2 + 1)*z^24 + (x^7 + x^2)*z^22 + (x^6 + x^5 + x^4 + x^3 + x + 1)*z^20 + (x^7 + x^5 + x^4 + x^3)*z^16 + (x^7 + x^6 + x^5 + x^4 + x^2 + 1)*z^14 + (x^7 + x^6 + x^5 + x^4 + x)*z^12 + (x^7 + x^4 + x^3 + x)*z^11 + (x^6 + x^5 + x^4 + x^2)*z^10 + (x^6 + x^5 + x^4 + x^2 + x + 1)*z^8 + (x^3 + x^2)*z^7 + (x^6 + x^5 + x^2)*z^6 + (x^6 + x^4 + x^3 + x + 1)*z^5 + (x^7 + x^5 + x^4 + x^3 + x^2 + x + 1)*z^4 + (x^7 + x^6 + 1)*z^3 + (x^6 + x^3 + x^2 + 1)*z^2 + (x^5 + x^4 + x^2 + x + 1)*z + x^7 + x^6 + x^5 + x^3 + x^2 + x,\n",
       " (x^7 + x^3 + x + 1)*z^224 + (x^5 + x^4 + x^3 + x^2 + x)*z^194 + (x^6 + x^5 + x^2)*z^193 + (x^7 + x^6 + x^3 + x^2 + x)*z^192 + (x^7 + x^6 + x^5 + x^3 + x^2 + x + 1)*z^176 + (x^7 + x^5 + x^3 + x + 1)*z^160 + (x^7 + x^6 + x)*z^133 + (x^7 + x^6 + x^5 + x^4 + x)*z^131 + (x^7 + x^6 + x^5 + x^2 + x)*z^130 + (x^7 + x^5 + x^4 + x^3 + x^2 + x)*z^129 + (x^7 + x^5 + x^3 + x^2 + x)*z^128 + (x^6 + x^5 + x^3 + x^2 + x + 1)*z^112 + (x^7 + x^3)*z^97 + (x^7 + x^4 + x^3 + x + 1)*z^96 + (x^6 + x^5 + x^4 + x^3 + x^2)*z^88 + (x^5 + x^4 + x^2 + 1)*z^80 + (x^5 + x^3 + x^2 + x)*z^65 + (x^6 + x)*z^64 + (x^7 + x^3)*z^56 + (x^3 + x + 1)*z^48 + (x^4 + x^2 + x)*z^44 + (x^6 + x^5 + x^4)*z^40 + (x^7 + x^5 + x^4 + x^3 + 1)*z^32 + (x^5 + x + 1)*z^24 + (x^7 + x^4 + x + 1)*z^22 + (x^6 + x^4 + x^2 + 1)*z^20 + (x^7 + x^6 + x^5 + x^4 + x^3 + x^2 + 1)*z^16 + (x^6 + x^5 + x^4 + x + 1)*z^14 + (x^7 + x^6)*z^12 + (x^7 + x^6 + x^5 + x^2 + x + 1)*z^11 + (x^7 + x^6 + x^4 + x^3 + x^2 + x)*z^10 + (x^7 + x^6 + x^4 + x^3 + x + 1)*z^8 + (x^7 + x^6 + x)*z^7 + (x^6 + x^5 + x^3 + x)*z^6 + (x^7 + x^6 + x^5 + x^4 + x)*z^5 + (x^5 + x^2 + 1)*z^4 + (x^7 + x^6 + x^4 + x^2 + x + 1)*z^3 + (x^5 + x^4 + x^3 + x + 1)*z^2 + (x^7 + x^6 + x^3 + x^2)*z + x^7 + x^6 + x^3,\n",
       " (x^6 + x^3 + x^2 + x + 1)*z^224 + (x^6 + x^4 + x^2 + x + 1)*z^194 + (x^7 + x^6 + x^4 + x^3 + 1)*z^193 + (x^5 + x^2 + 1)*z^192 + (x^7 + x^4 + x^3 + x^2 + 1)*z^176 + (x^7 + x^6 + x^3 + x^2)*z^160 + (x^7 + x^5 + x^3 + x + 1)*z^133 + (x^7 + x^4 + x^2)*z^131 + (x^6 + x^5 + x^2 + x + 1)*z^130 + (x^5 + x^2 + x + 1)*z^129 + (x^4 + x^3)*z^128 + (x^7 + x^3 + x^2 + x)*z^112 + (x^4 + x^3 + x + 1)*z^97 + (x^6 + x^2)*z^96 + (x^7 + x^6 + 1)*z^88 + (x^7 + x^2 + x)*z^80 + (x^5 + x^2 + x)*z^65 + (x^7 + x^5 + x^3 + x^2)*z^64 + (x^7 + x^5 + x^3)*z^56 + (x^6 + x^5 + x^2 + x)*z^48 + (x^7 + x^6 + x^4 + x^3 + x^2 + x + 1)*z^44 + (x^6 + x^5 + x^3 + x^2 + x + 1)*z^32 + (x^7 + x^4 + x^3)*z^28 + (x^6 + x^4 + x^3 + x^2 + 1)*z^24 + (x^7 + x^2 + x + 1)*z^22 + (x^3 + x^2)*z^20 + (x^7 + x^4)*z^16 + (x^4 + x^3 + x + 1)*z^14 + (x^7 + x^6 + x^5 + x + 1)*z^12 + (x^4 + x^2 + x + 1)*z^11 + (x^7 + x^5 + x^3 + x^2 + x)*z^10 + (x^6 + 1)*z^8 + (x^7 + x^6 + x)*z^7 + (x^5 + x^4 + x + 1)*z^6 + (x^7 + x^6 + x^4 + x^2)*z^5 + (x^7 + x^5 + x^3 + x)*z^4 + (x^6 + x^3 + x + 1)*z^3 + (x^6 + x^5 + x^4 + x^3 + x)*z^2 + (x^6 + x^3 + x)*z + x^5 + x^4 + x^3 + x^2 + 1,\n",
       " (x^7 + x^3 + x + 1)*z^224 + (x^6 + x^4 + x^3 + 1)*z^194 + (x^3 + x^2 + x + 1)*z^193 + (x^7 + x^6 + x^5 + x^3 + 1)*z^192 + (x^5 + x^4 + 1)*z^176 + (x^6 + x^4 + x^2)*z^160 + (x^5 + x^3 + x^2 + 1)*z^133 + (x^6 + x^3 + x + 1)*z^131 + (x^5 + x^4 + x + 1)*z^130 + (x^7 + x^5 + x^4 + x^2 + x + 1)*z^129 + (x^7 + x^4 + x^2 + 1)*z^128 + (x^7 + x^6 + x^5 + x)*z^112 + (x^7 + x^5 + x^4 + x^3 + x^2 + x + 1)*z^97 + (x^5 + x^2 + 1)*z^96 + (x^7 + x^5 + x^4 + x^3 + x)*z^88 + (x^7 + x^6 + x^5 + x^4 + x^3 + x + 1)*z^80 + (x^7 + x^6 + x^2 + x)*z^65 + (x^7 + x^6 + x^4)*z^64 + (x^6 + x^3 + 1)*z^56 + (x^7 + x^6 + x^5 + x + 1)*z^48 + (x^6 + x^3 + x)*z^44 + (x^7 + x^4 + x + 1)*z^40 + (x^7 + x^6 + x^4 + x^3 + x^2 + x)*z^32 + (x^6 + x^5 + 1)*z^28 + (x^6 + x^5 + x^4 + x^3 + x^2 + 1)*z^24 + (x^6 + x^3 + x^2)*z^22 + (x^7 + x^6 + x^2 + x)*z^20 + (x^6 + x^5 + x^2)*z^16 + (x^7 + x^6 + x^3 + x^2 + x + 1)*z^14 + (x^4 + x^2 + 1)*z^12 + (x^4 + x^2 + x)*z^11 + x^3*z^10 + (x^7 + x^6 + x^5 + x^4 + x^2 + x)*z^8 + (x^7 + x^5 + x^2 + x + 1)*z^7 + (x^5 + x^4 + 1)*z^6 + (x^7 + x^3 + x^2 + x + 1)*z^5 + (x^7 + x^6 + x^2 + x + 1)*z^4 + (x^7 + x^4 + x^3 + 1)*z^3 + (x^7 + x^6 + x^4)*z^2 + (x^7 + x^6 + x^5 + x^2)*z + x^6 + x^2 + x]"
      ]
     },
     "execution_count": 41,
     "metadata": {},
     "output_type": "execute_result"
    }
   ],
   "source": [
    "instance = crv.CRV(F8, [0,1,3,5,7,11])\n",
    "print(len(instance.L))\n",
    "instance.find_q_polynomials(t=7, tries=5, check_full_rank=False, sbox=[spnutils.natural_encoding(F8, x) for x in SKINNY_S8])"
   ]
  },
  {
   "cell_type": "code",
   "execution_count": 42,
   "id": "81f3bc55",
   "metadata": {},
   "outputs": [
    {
     "name": "stdout",
     "output_type": "stream",
     "text": [
      "t = 7\n",
      "L = [0, 1, 2, 3, 4, 5, 6, 7, 8, 10, 11, 12, 14, 16, 20, 22, 24, 28, 32, 40, 44, 48, 56, 64, 65, 80, 88, 96, 97, 112, 128, 129, 130, 131, 133, 160, 176, 192, 193, 194, 224]\n"
     ]
    }
   ],
   "source": [
    "res = instance.polynomial_decomposition(SKINNY_S8)\n",
    "print(f't = {res.t}')\n",
    "print(f'L = {res.L}')"
   ]
  },
  {
   "cell_type": "code",
   "execution_count": 44,
   "id": "418f974a",
   "metadata": {},
   "outputs": [
    {
     "name": "stdout",
     "output_type": "stream",
     "text": [
      "q_0: 0xf3 z^0 + 0x92 z^1 + 0x7c z^2 + 0x49 z^3 + 0xb2 z^4 + 0x57 z^5 + 0xff z^6 + 0x2d z^7 + 0x8a z^8 + 0xf2 z^10 + 0xe4 z^11 + 0xb0 z^12 + 0xb6 z^14 + 0x10 z^16 + 0x78 z^20 + 0x46 z^22 + 0xaf z^24 + 0x25 z^28 + 0xbe z^32 + 0x34 z^40 + 0x66 z^44 + 0x79 z^48 + 0x9 z^56 + 0x96 z^64 + 0x8e z^65 + 0xc6 z^80 + 0x9e z^88 + 0xbd z^96 + 0x55 z^97 + 0x52 z^112 + 0xed z^128 + 0x72 z^129 + 0x51 z^130 + 0xa4 z^131 + 0xa1 z^133 + 0x49 z^160 + 0x17 z^176 + 0xd8 z^192 + 0x17 z^193 + 0x18 z^194 + 0x30 z^224\n",
      "\n",
      "q_1: 0x38 z^0 + 0x3a z^1 + 0xe z^2 + 0xc2 z^3 + 0x16 z^4 + 0x2f z^5 + 0x1 z^6 + 0x30 z^7 + 0x8 z^8 + 0x2c z^10 + 0x9c z^11 + 0x31 z^12 + 0x59 z^14 + 0xf6 z^16 + 0xc9 z^20 + 0xa z^22 + 0x4e z^24 + 0x75 z^28 + 0xad z^32 + 0x15 z^40 + 0x1d z^44 + 0x2c z^48 + 0xd1 z^56 + 0xea z^64 + 0x37 z^65 + 0x3c z^80 + 0xc1 z^88 + 0x57 z^96 + 0x66 z^97 + 0xbb z^112 + 0x3c z^128 + 0x1 z^129 + 0xdf z^130 + 0xf9 z^131 + 0x24 z^133 + 0x6b z^160 + 0x6f z^176 + 0x89 z^192 + 0x5c z^193 + 0x5a z^194 + 0xae z^224\n",
      "\n",
      "q_2: 0xee z^0 + 0x37 z^1 + 0x4d z^2 + 0xc1 z^3 + 0xbf z^4 + 0x5b z^5 + 0x64 z^6 + 0xc z^7 + 0x77 z^8 + 0x74 z^10 + 0x9a z^11 + 0xf2 z^12 + 0xf5 z^14 + 0xb8 z^16 + 0x7b z^20 + 0x84 z^22 + 0xfd z^24 + 0x10 z^28 + 0xf8 z^32 + 0xa4 z^40 + 0xa6 z^44 + 0xb8 z^48 + 0xb0 z^56 + 0x87 z^64 + 0xfc z^65 + 0xa0 z^80 + 0x3a z^88 + 0x69 z^96 + 0xc6 z^97 + 0x63 z^112 + 0x77 z^128 + 0xc9 z^129 + 0x36 z^130 + 0xdb z^131 + 0xe3 z^133 + 0xa8 z^160 + 0x49 z^176 + 0x2f z^192 + 0xcf z^193 + 0x99 z^194 + 0xed z^224\n",
      "\n",
      "q_3: 0xc8 z^0 + 0xcc z^1 + 0x3b z^2 + 0xd7 z^3 + 0x25 z^4 + 0xf2 z^5 + 0x6a z^6 + 0xc2 z^7 + 0xdb z^8 + 0xde z^10 + 0xe7 z^11 + 0xc0 z^12 + 0x73 z^14 + 0xfd z^16 + 0x55 z^20 + 0x93 z^22 + 0x23 z^24 + 0xb9 z^32 + 0x70 z^40 + 0x16 z^44 + 0xb z^48 + 0x88 z^56 + 0x42 z^64 + 0x2e z^65 + 0x35 z^80 + 0x7c z^88 + 0x9b z^96 + 0x88 z^97 + 0x6f z^112 + 0xae z^128 + 0xbe z^129 + 0xe6 z^130 + 0xf2 z^131 + 0xc2 z^133 + 0xab z^160 + 0xef z^176 + 0xce z^192 + 0x64 z^193 + 0x3e z^194 + 0x8b z^224\n",
      "\n",
      "q_4: 0x3d z^0 + 0x4a z^1 + 0x7a z^2 + 0x4b z^3 + 0xaa z^4 + 0xd4 z^5 + 0x33 z^6 + 0xc2 z^7 + 0x41 z^8 + 0xae z^10 + 0x17 z^11 + 0xe3 z^12 + 0x1b z^14 + 0x90 z^16 + 0xc z^20 + 0x87 z^22 + 0x5d z^24 + 0x98 z^28 + 0x6f z^32 + 0xdf z^44 + 0x66 z^48 + 0xa8 z^56 + 0xac z^64 + 0x26 z^65 + 0x86 z^80 + 0xc1 z^88 + 0x44 z^96 + 0x1b z^97 + 0x8e z^112 + 0x18 z^128 + 0x27 z^129 + 0x67 z^130 + 0x94 z^131 + 0xab z^133 + 0xcc z^160 + 0x9d z^176 + 0x25 z^192 + 0xd9 z^193 + 0x57 z^194 + 0x4f z^224\n",
      "\n",
      "q_5: 0x46 z^0 + 0xe4 z^1 + 0xd0 z^2 + 0x99 z^3 + 0xc7 z^4 + 0x8f z^5 + 0x31 z^6 + 0xa7 z^7 + 0xf6 z^8 + 0x8 z^10 + 0x16 z^11 + 0x15 z^12 + 0xcf z^14 + 0x64 z^16 + 0xc6 z^20 + 0x4c z^22 + 0x7d z^24 + 0x61 z^28 + 0xde z^32 + 0x93 z^40 + 0x4a z^44 + 0xe3 z^48 + 0x49 z^56 + 0xd0 z^64 + 0xc6 z^65 + 0xfb z^80 + 0xba z^88 + 0x25 z^96 + 0xbf z^97 + 0xe2 z^112 + 0x95 z^128 + 0xb7 z^129 + 0x33 z^130 + 0x4b z^131 + 0x2d z^133 + 0x54 z^160 + 0x31 z^176 + 0xe9 z^192 + 0xf z^193 + 0x59 z^194 + 0x8b z^224\n",
      "\n"
     ]
    }
   ],
   "source": [
    "for j,q in enumerate(res.q):\n",
    "    print(f'q_{j}: ' + ' + '.join(f'0x{spnutils.natural_encoding_to_int(c):x} z^{i}' for i,c in enumerate(q.coefficients(sparse=False)) if c != 0))\n",
    "    print()"
   ]
  },
  {
   "cell_type": "code",
   "execution_count": 46,
   "id": "e38665b5",
   "metadata": {},
   "outputs": [
    {
     "name": "stdout",
     "output_type": "stream",
     "text": [
      "p_0: 0x1e z^0 + 0x4f z^2 + 0x52 z^3 + 0x64 z^4 + 0xfe z^5 + 0xab z^6 + 0x5b z^7 + 0x97 z^8 + 0xa5 z^9 + 0xbd z^10 + 0xe8 z^11 + 0x6f z^12 + 0x19 z^13 + 0x87 z^14 + 0xef z^15 + 0xc1 z^16 + 0xea z^17 + 0x92 z^18 + 0x8f z^19 + 0xe1 z^20 + 0x6f z^21 + 0x23 z^22 + 0x5d z^23 + 0xbb z^24 + 0xc7 z^25 + 0xae z^26 + 0x13 z^27 + 0xd7 z^28 + 0x5b z^29 + 0x14 z^30 + 0x2a z^31 + 0xbe z^32 + 0xd0 z^33 + 0x5c z^34 + 0xb4 z^35 + 0x4b z^36 + 0xcd z^37 + 0xb3 z^38 + 0x58 z^39 + 0xbc z^40\n",
      "p_1: 0x88 z^0 + 0x57 z^1 + 0xc4 z^2 + 0x4e z^3 + 0x85 z^4 + 0x5f z^5 + 0xef z^6 + 0x21 z^7 + 0xc6 z^8 + 0xfd z^9 + 0xb4 z^10 + 0x6c z^11 + 0xb9 z^12 + 0xe2 z^13 + 0x8d z^14 + 0xa7 z^15 + 0x19 z^16 + 0x44 z^17 + 0xd7 z^18 + 0xbf z^19 + 0xb0 z^20 + 0xeb z^21 + 0xad z^22 + 0x88 z^23 + 0xaf z^24 + 0xc0 z^25 + 0xa3 z^26 + 0xcd z^27 + 0xd4 z^29 + 0xf2 z^30 + 0x8 z^31 + 0x7 z^32 + 0x16 z^33 + 0xd1 z^34 + 0x56 z^35 + 0x1f z^36 + 0xf4 z^37 + 0xaf z^38 + 0x89 z^39\n",
      "p_2: 0xf4 z^0 + 0x4c z^1 + 0x99 z^2 + 0xd6 z^3 + 0xc9 z^4 + 0x15 z^5 + 0xf8 z^6 + 0xa0 z^7 + 0xeb z^8 + 0x91 z^9 + 0x1b z^10 + 0xff z^11 + 0x39 z^12 + 0x72 z^13 + 0x76 z^14 + 0x8 z^15 + 0xba z^16 + 0x70 z^17 + 0x18 z^18 + 0xf8 z^19 + 0x44 z^20 + 0x83 z^21 + 0xbf z^22 + 0xd7 z^23 + 0xdd z^24 + 0x6 z^25 + 0x19 z^26 + 0x59 z^27 + 0xd2 z^28 + 0xd2 z^29 + 0x5c z^30 + 0x5a z^31 + 0xdb z^32 + 0x96 z^33 + 0xa5 z^34 + 0x4c z^35 + 0x32 z^36 + 0x88 z^37 + 0xaf z^38\n",
      "p_3: 0x2a z^0 + 0xa7 z^1 + 0xf3 z^2 + 0xc1 z^3 + 0x56 z^4 + 0xfe z^5 + 0x79 z^6 + 0xd4 z^7 + 0x25 z^8 + 0x72 z^9 + 0x6f z^10 + 0xa6 z^11 + 0x38 z^12 + 0x6e z^13 + 0x28 z^14 + 0xdf z^15 + 0xca z^16 + 0x3a z^17 + 0xce z^18 + 0x9d z^19 + 0xdc z^20 + 0x38 z^21 + 0x74 z^22 + 0x58 z^23 + 0x44 z^24 + 0xdb z^25 + 0x91 z^26 + 0x4d z^27 + 0x29 z^28 + 0x3e z^29 + 0x84 z^30 + 0xbd z^31 + 0xc z^32 + 0xdb z^33 + 0x4e z^34 + 0x43 z^35 + 0xbc z^36 + 0x20 z^37\n",
      "p_4: 0x17 z^0 + 0x5e z^1 + 0x90 z^2 + 0x55 z^3 + 0x92 z^4 + 0xc9 z^5 + 0x3f z^6 + 0x5d z^7 + 0xd z^8 + 0x32 z^9 + 0x30 z^10 + 0xff z^11 + 0xd3 z^12 + 0xef z^13 + 0x1d z^14 + 0xf6 z^15 + 0x78 z^16 + 0x79 z^17 + 0x26 z^18 + 0xd2 z^19 + 0x20 z^20 + 0x42 z^21 + 0xf2 z^22 + 0xc2 z^23 + 0xfe z^24 + 0xb4 z^25 + 0xd9 z^26 + 0xfb z^27 + 0x97 z^28 + 0x79 z^29 + 0x79 z^30 + 0xc3 z^31 + 0xbc z^32 + 0x3f z^33 + 0x7b z^34 + 0x83 z^35 + 0x3c z^36\n",
      "p_5: 0x9f z^0 + 0x41 z^1 + 0xfd z^2 + 0xa4 z^3 + 0x1f z^4 + 0x4 z^5 + 0xa1 z^6 + 0x47 z^7 + 0x4e z^8 + 0x8c z^9 + 0x11 z^10 + 0xbe z^11 + 0x8d z^12 + 0xb9 z^13 + 0x39 z^14 + 0xe z^15 + 0x4c z^16 + 0xb8 z^17 + 0x7f z^18 + 0xd6 z^19 + 0x75 z^20 + 0xb9 z^21 + 0xb2 z^22 + 0xe8 z^23 + 0xb z^24 + 0x27 z^25 + 0xd9 z^26 + 0x7f z^27 + 0xe0 z^28 + 0x66 z^29 + 0xc8 z^30 + 0x98 z^31 + 0xba z^32 + 0xe2 z^33 + 0x50 z^34 + 0x64 z^35\n",
      "p_6: 0xe6 z^0 + 0x45 z^1 + 0xe2 z^2 + 0x7d z^3 + 0x48 z^4 + 0x96 z^5 + 0xa1 z^6 + 0x14 z^7 + 0xda z^8 + 0x6b z^9 + 0xef z^10 + 0x91 z^11 + 0x2a z^12 + 0xba z^13 + 0x49 z^14 + 0x2c z^15\n"
     ]
    }
   ],
   "source": [
    "for j,p in enumerate(res.p):\n",
    "    pi = [F8(list(c)[0]) for c in p]\n",
    "    print(f'p_{j}: ' + ' + '.join(f'0x{spnutils.natural_encoding_to_int(c):x} z^{i}' for i,c in enumerate(pi) if c != 0))"
   ]
  },
  {
   "cell_type": "code",
   "execution_count": 47,
   "id": "ba408309",
   "metadata": {},
   "outputs": [],
   "source": [
    "# check correctness of decomposition\n",
    "for x,y in enumerate(SKINNY_S8):\n",
    "    x_f = spnutils.natural_encoding(F8, x)\n",
    "    y_f = res.compute(x_f)[0]\n",
    "    a = spnutils.natural_encoding_to_int(y_f)\n",
    "    assert y == a, f'x=0x{x:02x} expected 0x{y:02x}, got 0x{a:02x}'"
   ]
  },
  {
   "cell_type": "code",
   "execution_count": 48,
   "id": "faaa389b",
   "metadata": {},
   "outputs": [],
   "source": [
    "res_inv = instance.polynomial_decomposition(SKINNY_S8_inv)"
   ]
  },
  {
   "cell_type": "code",
   "execution_count": 49,
   "id": "777cdd11",
   "metadata": {},
   "outputs": [
    {
     "name": "stdout",
     "output_type": "stream",
     "text": [
      "t = 7\n",
      "L = [0, 1, 2, 3, 4, 5, 6, 7, 8, 10, 11, 12, 14, 16, 20, 22, 24, 28, 32, 40, 44, 48, 56, 64, 65, 80, 88, 96, 97, 112, 128, 129, 130, 131, 133, 160, 176, 192, 193, 194, 224]\n"
     ]
    }
   ],
   "source": [
    "print(f't = {res_inv.t}')\n",
    "print(f'L = {res_inv.L}')"
   ]
  },
  {
   "cell_type": "code",
   "execution_count": 50,
   "id": "fff57fe4",
   "metadata": {},
   "outputs": [
    {
     "name": "stdout",
     "output_type": "stream",
     "text": [
      "p_0: 0x9d z^0 + 0x54 z^1 + 0x1d z^2 + 0x29 z^3 + 0x40 z^4 + 0xf3 z^5 + 0xea z^6 + 0x6f z^7 + 0x93 z^8 + 0x55 z^9 + 0xc0 z^10 + 0x58 z^11 + 0x71 z^12 + 0x83 z^13 + 0x22 z^14 + 0x62 z^15 + 0xf7 z^16 + 0xa2 z^17 + 0x95 z^18 + 0xd5 z^19 + 0xd0 z^20 + 0x6c z^21 + 0x50 z^22 + 0x26 z^23 + 0x3 z^24 + 0x7d z^25 + 0xce z^26 + 0x88 z^27 + 0x8c z^28 + 0x8f z^29 + 0x73 z^30 + 0x82 z^31 + 0x3b z^32 + 0xa2 z^33 + 0x1 z^34 + 0x48 z^35 + 0xe2 z^36 + 0x36 z^37 + 0xfe z^38 + 0xe9 z^39 + 0x63 z^40\n",
      "p_1: 0x1f z^0 + 0x44 z^1 + 0xf2 z^2 + 0x52 z^3 + 0x9f z^4 + 0xc3 z^5 + 0x72 z^6 + 0x5a z^7 + 0xbc z^8 + 0x43 z^9 + 0x67 z^10 + 0x6a z^11 + 0xe3 z^12 + 0xad z^13 + 0xf4 z^14 + 0xb9 z^15 + 0x2 z^16 + 0x61 z^17 + 0xb9 z^18 + 0xdf z^19 + 0xdd z^20 + 0x2a z^21 + 0xa9 z^22 + 0x3c z^23 + 0x91 z^24 + 0x91 z^25 + 0x23 z^26 + 0xdc z^27 + 0xb2 z^28 + 0x93 z^29 + 0xad z^30 + 0x30 z^31 + 0x2e z^32 + 0x44 z^33 + 0xc6 z^34 + 0x58 z^35 + 0xa3 z^36 + 0x3c z^37 + 0x14 z^38 + 0x80 z^39\n",
      "p_2: 0xe9 z^0 + 0x17 z^1 + 0xcf z^2 + 0xa5 z^3 + 0xf0 z^4 + 0x23 z^5 + 0x63 z^6 + 0x2e z^7 + 0x1f z^8 + 0xb3 z^9 + 0x47 z^10 + 0xe0 z^11 + 0x6c z^12 + 0xf8 z^13 + 0x7b z^14 + 0x27 z^15 + 0x35 z^16 + 0xe8 z^17 + 0xa9 z^18 + 0xfa z^19 + 0xfb z^20 + 0x6 z^21 + 0xdb z^22 + 0x5a z^23 + 0x26 z^24 + 0x6e z^25 + 0x22 z^26 + 0xc6 z^27 + 0xc3 z^28 + 0x20 z^29 + 0xc4 z^30 + 0x84 z^31 + 0x27 z^32 + 0xa8 z^33 + 0xb1 z^34 + 0xd z^35 + 0x8c z^36 + 0x3e z^37 + 0x1b z^38\n",
      "p_3: 0x83 z^0 + 0x85 z^1 + 0x50 z^2 + 0xa1 z^3 + 0xd6 z^4 + 0x35 z^5 + 0x66 z^6 + 0xe9 z^7 + 0x98 z^8 + 0xdb z^9 + 0xe3 z^10 + 0xe0 z^11 + 0x56 z^12 + 0xf3 z^13 + 0xda z^14 + 0x7c z^15 + 0x4a z^16 + 0x22 z^17 + 0xe6 z^18 + 0x85 z^19 + 0xe0 z^20 + 0xaf z^21 + 0x75 z^22 + 0x79 z^23 + 0x8c z^24 + 0x6a z^25 + 0x9a z^26 + 0x29 z^27 + 0x7d z^28 + 0xbf z^29 + 0xe0 z^30 + 0x53 z^31 + 0xd9 z^32 + 0x83 z^33 + 0x8d z^34 + 0x5c z^35 + 0xf z^36 + 0xad z^37\n",
      "p_4: 0x1e z^0 + 0xf2 z^1 + 0x50 z^2 + 0x58 z^3 + 0xb2 z^4 + 0xd6 z^5 + 0xd1 z^6 + 0xc6 z^7 + 0x5 z^8 + 0x15 z^9 + 0x53 z^10 + 0x47 z^11 + 0xc6 z^12 + 0xb4 z^13 + 0xb8 z^14 + 0x9b z^15 + 0xb4 z^16 + 0x8b z^17 + 0xed z^18 + 0x8 z^19 + 0x31 z^20 + 0x65 z^21 + 0x6 z^22 + 0xf0 z^23 + 0x2d z^24 + 0xb6 z^25 + 0x50 z^26 + 0x58 z^27 + 0x7f z^28 + 0x8e z^29 + 0x14 z^30 + 0x39 z^31 + 0x8f z^32 + 0x21 z^33 + 0x94 z^34 + 0xbe z^35 + 0xa7 z^36\n",
      "p_5: 0xec z^0 + 0x36 z^1 + 0x34 z^2 + 0x99 z^3 + 0x83 z^4 + 0x52 z^5 + 0x7 z^6 + 0xed z^7 + 0x41 z^8 + 0x92 z^9 + 0x93 z^10 + 0x98 z^11 + 0xec z^12 + 0x33 z^13 + 0xe9 z^14 + 0x8a z^15 + 0x7d z^16 + 0xd5 z^17 + 0x13 z^18 + 0x27 z^19 + 0xd1 z^20 + 0xd3 z^21 + 0x7f z^22 + 0x48 z^23 + 0x53 z^24 + 0xba z^25 + 0x46 z^26 + 0x5b z^27 + 0x57 z^28 + 0x41 z^29 + 0x23 z^30 + 0x47 z^31 + 0x9b z^32 + 0x9a z^33 + 0x52 z^35\n",
      "p_6: 0x80 z^0 + 0x9d z^1 + 0x8b z^2 + 0xc7 z^3 + 0x4c z^4 + 0x4b z^5 + 0xf7 z^6 + 0x12 z^7 + 0x17 z^8 + 0xdc z^9 + 0xd4 z^11 + 0xe0 z^12 + 0x82 z^13 + 0xa9 z^14 + 0x8d z^15\n"
     ]
    }
   ],
   "source": [
    "for j,p in enumerate(res_inv.p):\n",
    "    pi = [F8(list(c)[0]) for c in p]\n",
    "    print(f'p_{j}: ' + ' + '.join(f'0x{spnutils.natural_encoding_to_int(c):x} z^{i}' for i,c in enumerate(pi) if c != 0))"
   ]
  },
  {
   "cell_type": "markdown",
   "id": "3ffb53a3",
   "metadata": {},
   "source": [
    "### SKINNY 8-bit addition chains"
   ]
  },
  {
   "cell_type": "code",
   "execution_count": 51,
   "id": "2efe3ca7",
   "metadata": {},
   "outputs": [
    {
     "name": "stdout",
     "output_type": "stream",
     "text": [
      "[0, 1, 2, 3, 4, 5, 6, 7, 8, 9, 10, 11, 12, 14, 15, 16, 17, 18, 19, 20, 21, 22, 23, 24, 25, 26, 27, 28, 29, 30, 31, 32, 33, 34, 35, 36, 37, 38, 39, 40, 41, 42, 43, 44, 45, 46, 47, 48, 49, 50, 51, 52, 53, 54, 55, 56, 57, 58, 59, 60, 61, 62, 63, 64, 65, 66, 67, 68, 69, 70, 71, 72, 73, 74, 75, 76, 77, 78, 79, 80, 81, 82, 83, 84, 85, 86, 87, 88, 89, 90, 91, 92, 93, 94, 95, 96, 97, 98, 99, 100, 101, 102, 103, 104, 105, 106, 107, 108, 109, 110, 111, 112, 113, 114, 115, 116, 117, 118, 120, 121, 122, 123, 124, 125, 126, 128, 129, 130, 131, 132, 133, 134, 135, 136, 137, 138, 139, 140, 141, 142, 143, 144, 145, 146, 147, 148, 149, 150, 151, 152, 153, 154, 155, 156, 157, 158, 159, 160, 161, 162, 163, 164, 165, 166, 167, 168, 169, 170, 171, 172, 173, 174, 175, 176, 177, 178, 179, 180, 182, 183, 184, 185, 186, 188, 189, 190, 192, 193, 194, 195, 196, 197, 198, 199, 200, 201, 202, 203, 204, 205, 206, 207, 208, 209, 210, 211, 212, 213, 214, 215, 216, 217, 218, 219, 220, 222, 224, 225, 226, 227, 228, 229, 230, 231, 232, 233, 234, 235, 236, 237, 240, 241, 242, 243, 244, 245, 246, 248, 249, 250, 252]\n",
      "241\n"
     ]
    }
   ],
   "source": [
    "c = spnutils.interpolate(F8, [spnutils.natural_encoding(F8, i) for i in range(256)], [spnutils.natural_encoding(F8, x) for x in SKINNY_S8_inv])\n",
    "powers = [i for i in range(256) if c[i] != 0]\n",
    "print(powers)\n",
    "print(len(powers))"
   ]
  },
  {
   "cell_type": "code",
   "execution_count": 52,
   "id": "ad98cd76",
   "metadata": {},
   "outputs": [],
   "source": [
    "res = spnutils.shallow_dense_addition_chain(powers, 8, doubles=[])"
   ]
  },
  {
   "cell_type": "code",
   "execution_count": 53,
   "id": "f90a80cd",
   "metadata": {},
   "outputs": [
    {
     "name": "stdout",
     "output_type": "stream",
     "text": [
      "Round 1 [free]: \n",
      "Round 1: 2 = 1 + 1\n",
      "Round 2 [free]: \n",
      "Round 2: 3 = 1 + 2, 4 = 2 + 2\n",
      "Round 3 [free]: \n",
      "Round 3: 5 = 1 + 4, 6 = 2 + 4, 7 = 3 + 4, 8 = 4 + 4\n",
      "Round 4 [free]: \n",
      "Round 4: 9 = 1 + 8, 10 = 2 + 8, 11 = 3 + 8, 12 = 4 + 8, 14 = 6 + 8, 15 = 7 + 8, 16 = 8 + 8\n",
      "Round 5 [free]: \n",
      "Round 5: 17 = 1 + 16, 18 = 2 + 16, 19 = 3 + 16, 20 = 4 + 16, 21 = 5 + 16, 22 = 6 + 16, 23 = 7 + 16, 24 = 8 + 16, 25 = 9 + 16, 26 = 10 + 16, 27 = 11 + 16, 28 = 12 + 16, 29 = 14 + 15, 30 = 14 + 16, 31 = 15 + 16, 32 = 16 + 16\n",
      "Round 6 [free]: \n",
      "Round 6: 33 = 1 + 32, 34 = 2 + 32, 35 = 3 + 32, 36 = 4 + 32, 37 = 5 + 32, 38 = 6 + 32, 39 = 7 + 32, 40 = 8 + 32, 41 = 9 + 32, 42 = 10 + 32, 43 = 11 + 32, 44 = 12 + 32, 45 = 14 + 31, 46 = 14 + 32, 47 = 15 + 32, 48 = 16 + 32, 49 = 17 + 32, 50 = 18 + 32, 51 = 19 + 32, 52 = 20 + 32, 53 = 21 + 32, 54 = 22 + 32, 55 = 23 + 32, 56 = 24 + 32, 57 = 25 + 32, 58 = 26 + 32, 59 = 27 + 32, 60 = 28 + 32, 61 = 29 + 32, 62 = 30 + 32, 63 = 31 + 32, 64 = 32 + 32\n",
      "Round 7 [free]: \n",
      "Round 7: 65 = 1 + 64, 66 = 2 + 64, 67 = 3 + 64, 68 = 4 + 64, 69 = 5 + 64, 70 = 6 + 64, 71 = 7 + 64, 72 = 8 + 64, 73 = 9 + 64, 74 = 10 + 64, 75 = 11 + 64, 76 = 12 + 64, 77 = 14 + 63, 78 = 14 + 64, 79 = 15 + 64, 80 = 16 + 64, 81 = 17 + 64, 82 = 18 + 64, 83 = 19 + 64, 84 = 20 + 64, 85 = 21 + 64, 86 = 22 + 64, 87 = 23 + 64, 88 = 24 + 64, 89 = 25 + 64, 90 = 26 + 64, 91 = 27 + 64, 92 = 28 + 64, 93 = 29 + 64, 94 = 30 + 64, 95 = 31 + 64, 96 = 32 + 64, 97 = 33 + 64, 98 = 34 + 64, 99 = 35 + 64, 100 = 36 + 64, 101 = 37 + 64, 102 = 38 + 64, 103 = 39 + 64, 104 = 40 + 64, 105 = 41 + 64, 106 = 42 + 64, 107 = 43 + 64, 108 = 44 + 64, 109 = 45 + 64, 110 = 46 + 64, 111 = 47 + 64, 112 = 48 + 64, 113 = 49 + 64, 114 = 50 + 64, 115 = 51 + 64, 116 = 52 + 64, 117 = 53 + 64, 118 = 54 + 64, 120 = 56 + 64, 121 = 57 + 64, 122 = 58 + 64, 123 = 59 + 64, 124 = 60 + 64, 125 = 61 + 64, 126 = 62 + 64, 128 = 64 + 64\n",
      "Round 8 [free]: \n",
      "Round 8: 129 = 1 + 128, 130 = 2 + 128, 131 = 3 + 128, 132 = 4 + 128, 133 = 5 + 128, 134 = 6 + 128, 135 = 7 + 128, 136 = 8 + 128, 137 = 9 + 128, 138 = 10 + 128, 139 = 11 + 128, 140 = 12 + 128, 141 = 15 + 126, 142 = 14 + 128, 143 = 15 + 128, 144 = 16 + 128, 145 = 17 + 128, 146 = 18 + 128, 147 = 19 + 128, 148 = 20 + 128, 149 = 21 + 128, 150 = 22 + 128, 151 = 23 + 128, 152 = 24 + 128, 153 = 25 + 128, 154 = 26 + 128, 155 = 27 + 128, 156 = 28 + 128, 157 = 29 + 128, 158 = 30 + 128, 159 = 31 + 128, 160 = 32 + 128, 161 = 33 + 128, 162 = 34 + 128, 163 = 35 + 128, 164 = 36 + 128, 165 = 37 + 128, 166 = 38 + 128, 167 = 39 + 128, 168 = 40 + 128, 169 = 41 + 128, 170 = 42 + 128, 171 = 43 + 128, 172 = 44 + 128, 173 = 45 + 128, 174 = 46 + 128, 175 = 47 + 128, 176 = 48 + 128, 177 = 49 + 128, 178 = 50 + 128, 179 = 51 + 128, 180 = 52 + 128, 182 = 54 + 128, 183 = 55 + 128, 184 = 56 + 128, 185 = 57 + 128, 186 = 58 + 128, 188 = 60 + 128, 189 = 61 + 128, 190 = 62 + 128, 192 = 64 + 128, 193 = 65 + 128, 194 = 66 + 128, 195 = 67 + 128, 196 = 68 + 128, 197 = 69 + 128, 198 = 70 + 128, 199 = 71 + 128, 200 = 72 + 128, 201 = 73 + 128, 202 = 74 + 128, 203 = 75 + 128, 204 = 76 + 128, 205 = 77 + 128, 206 = 78 + 128, 207 = 79 + 128, 208 = 80 + 128, 209 = 81 + 128, 210 = 82 + 128, 211 = 83 + 128, 212 = 84 + 128, 213 = 85 + 128, 214 = 86 + 128, 215 = 87 + 128, 216 = 88 + 128, 217 = 89 + 128, 218 = 90 + 128, 219 = 91 + 128, 220 = 92 + 128, 222 = 94 + 128, 224 = 96 + 128, 225 = 97 + 128, 226 = 98 + 128, 227 = 99 + 128, 228 = 100 + 128, 229 = 101 + 128, 230 = 102 + 128, 231 = 103 + 128, 232 = 104 + 128, 233 = 105 + 128, 234 = 106 + 128, 235 = 107 + 128, 236 = 108 + 128, 237 = 109 + 128, 240 = 112 + 128, 241 = 113 + 128, 242 = 114 + 128, 243 = 115 + 128, 244 = 116 + 128, 245 = 117 + 128, 246 = 118 + 128, 248 = 120 + 128, 249 = 121 + 128, 250 = 122 + 128, 252 = 124 + 128\n"
     ]
    }
   ],
   "source": [
    "res.print_levels()"
   ]
  },
  {
   "cell_type": "code",
   "execution_count": 54,
   "id": "0e9ead0e",
   "metadata": {},
   "outputs": [
    {
     "name": "stdout",
     "output_type": "stream",
     "text": [
      "muls: 239, free squares: 0, bits: 0 in 8 rounds\n"
     ]
    }
   ],
   "source": [
    "muls, squares, bd = res.required_additions()\n",
    "print(f'muls: {muls+squares}, free squares: {len(res._frees)}, bits: {8 * bd} in {res.required_levels()} rounds')"
   ]
  },
  {
   "cell_type": "code",
   "execution_count": 55,
   "id": "609bedce",
   "metadata": {},
   "outputs": [
    {
     "name": "stdout",
     "output_type": "stream",
     "text": [
      "adding 2 as double\n",
      "adding 3 as double\n",
      "adding 5 as double\n",
      "adding 9 as double\n",
      "adding 17 as double\n",
      "adding 7 as double\n",
      "adding 11 as double\n",
      "adding 15 as double\n",
      "adding 19 as double\n",
      "adding 21 as double\n",
      "adding 23 as double\n",
      "adding 25 as double\n",
      "adding 26 as double\n",
      "adding 27 as double\n",
      "adding 29 as double\n",
      "adding 37 as double\n",
      "adding 39 as double\n",
      "adding 43 as double\n",
      "adding 45 as double\n",
      "adding 51 as double\n",
      "adding 53 as double\n",
      "adding 85 as double\n",
      "adding 31 as double\n",
      "adding 47 as double\n",
      "adding 55 as double\n",
      "adding 59 as double\n",
      "adding 61 as double\n",
      "adding 63 as double\n",
      "adding 87 as double\n",
      "adding 91 as double\n",
      "adding 95 as double\n",
      "adding 111 as double\n"
     ]
    }
   ],
   "source": [
    "# gradually add more and more free squares to understand the trade-off\n",
    "doubles = []\n",
    "res = spnutils.shallow_dense_addition_chain(powers, 8, doubles)\n",
    "l = [res]\n",
    "while True:\n",
    "    # find next value to add to doubles\n",
    "    new_value = None\n",
    "    for level in res._levels:\n",
    "        for x,y,z in level:\n",
    "            if new_value == None and z not in res._frees and z not in doubles:\n",
    "                new_value = z\n",
    "    if new_value == None:\n",
    "        # done\n",
    "        break\n",
    "    print(f'adding {new_value} as double')\n",
    "    doubles.append(new_value)\n",
    "    res = spnutils.shallow_dense_addition_chain(powers, 8, doubles)\n",
    "    l.append(res)"
   ]
  },
  {
   "cell_type": "code",
   "execution_count": 56,
   "id": "929ced80",
   "metadata": {},
   "outputs": [
    {
     "data": {
      "text/plain": [
       "33"
      ]
     },
     "execution_count": 56,
     "metadata": {},
     "output_type": "execute_result"
    }
   ],
   "source": [
    "len(l)"
   ]
  },
  {
   "cell_type": "code",
   "execution_count": 57,
   "id": "17d6ac72",
   "metadata": {},
   "outputs": [],
   "source": [
    "import matplotlib.pyplot as plt"
   ]
  },
  {
   "cell_type": "code",
   "execution_count": 58,
   "id": "2d940114",
   "metadata": {},
   "outputs": [
    {
     "name": "stdout",
     "output_type": "stream",
     "text": [
      "[239, 233, 226, 219, 212, 209, 202, 195, 188, 181, 174, 167, 160, 154, 147, 140, 133, 126, 119, 112, 109, 102, 101, 94, 87, 80, 73, 66, 59, 52, 46, 39, 32]\n",
      "[0, 8, 16, 24, 32, 40, 48, 56, 64, 72, 80, 88, 96, 104, 112, 120, 128, 136, 144, 152, 160, 168, 176, 184, 192, 200, 208, 216, 224, 232, 240, 248, 256]\n",
      "[8, 4, 4, 4, 4, 4, 4, 4, 4, 4, 4, 4, 4, 4, 4, 4, 4, 4, 4, 4, 4, 4, 4, 5, 5, 5, 5, 5, 5, 5, 5, 5, 5]\n"
     ]
    },
    {
     "data": {
      "image/png": "[encoded data removed]",
      "text/plain": [
       "<Figure size 640x480 with 1 Axes>"
      ]
     },
     "metadata": {},
     "output_type": "display_data"
    }
   ],
   "source": [
    "muls = [sum(r.required_additions()[:2]) for r in l]\n",
    "print(muls)\n",
    "bits = [8*r.required_additions()[2] for r in l]\n",
    "print(bits)\n",
    "rounds = [r.required_levels() for r in l]\n",
    "print(rounds)\n",
    "scatter = plt.scatter(bits, muls, c=rounds, norm='linear')\n",
    "legend = plt.legend(*scatter.legend_elements(), title='Rounds')\n",
    "plt.ylabel('# Multiplications')\n",
    "plt.xlabel('# Bits')\n",
    "plt.show()"
   ]
  },
  {
   "cell_type": "code",
   "execution_count": null,
   "id": "da90add9",
   "metadata": {},
   "outputs": [],
   "source": []
  }
 ],
 "metadata": {
  "kernelspec": {
   "display_name": "SageMath 10.1",
   "language": "sage",
   "name": "sagemath"
  },
  "language_info": {
   "codemirror_mode": {
    "name": "ipython",
    "version": 3
   },
   "file_extension": ".py",
   "mimetype": "text/x-python",
   "name": "python",
   "nbconvert_exporter": "python",
   "pygments_lexer": "ipython3",
   "version": "3.11.5"
  }
 },
 "nbformat": 4,
 "nbformat_minor": 5
}
