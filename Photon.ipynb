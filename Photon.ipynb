{
 "cells": [
  {
   "cell_type": "code",
   "execution_count": 1,
   "id": "a9935709",
   "metadata": {},
   "outputs": [],
   "source": [
    "import spnutils\n",
    "import embedding\n",
    "import crv"
   ]
  },
  {
   "cell_type": "code",
   "execution_count": 2,
   "id": "3e33836c",
   "metadata": {},
   "outputs": [],
   "source": [
    "x = polygen(GF(2), 'x')\n",
    "F4 = GF(2**4, name=x, modulus=x**4 + x + 1)"
   ]
  },
  {
   "cell_type": "code",
   "execution_count": 3,
   "id": "e93e174e",
   "metadata": {},
   "outputs": [],
   "source": [
    "PHOTON_S4 = [0xc, 0x5, 0x6, 0xb, 0x9, 0x0, 0xa, 0xd, 0x3, 0xe, 0xf, 0x8, 0x4, 0x7, 0x1, 0x2]"
   ]
  },
  {
   "cell_type": "markdown",
   "id": "05725112-c4e0-4805-a008-51d0e80dd67e",
   "metadata": {},
   "source": [
    "### Polynomial Interpolation for PHOTON 4-bit S-box"
   ]
  },
  {
   "cell_type": "code",
   "execution_count": 4,
   "id": "5c21d5ee",
   "metadata": {},
   "outputs": [
    {
     "name": "stdout",
     "output_type": "stream",
     "text": [
      "(x^3 + x^2, 0, x^2 + x + 1, x^2 + x + 1, x^3 + x^2 + x, x^3 + x, x^3 + x^2, x^2, x^2 + x + 1, x^3 + 1, x^3 + 1, x^3 + x^2 + x, x^3 + x^2, x^3 + x^2 + 1, x^3 + x^2 + 1, 0)\n"
     ]
    }
   ],
   "source": [
    "c = spnutils.interpolate(F4, [spnutils.natural_encoding(F4, i) for i in range(16)], [spnutils.natural_encoding(F4, x) for x in PHOTON_S4])\n",
    "print(c)"
   ]
  },
  {
   "cell_type": "code",
   "execution_count": 5,
   "id": "bb40c4c3",
   "metadata": {},
   "outputs": [
    {
     "name": "stdout",
     "output_type": "stream",
     "text": [
      "0xc z^0 + 0x0 z^1 + 0x7 z^2 + 0x7 z^3 + 0xe z^4 + 0xa z^5 + 0xc z^6 + 0x4 z^7 + 0x7 z^8 + 0x9 z^9 + 0x9 z^10 + 0xe z^11 + 0xc z^12 + 0xd z^13 + 0xd z^14 + 0x0 z^15\n"
     ]
    }
   ],
   "source": [
    "print(' + '.join([f'0x{spnutils.natural_encoding_to_int(ci):x} z^{i}' for i,ci in enumerate(c)]))"
   ]
  },
  {
   "cell_type": "markdown",
   "id": "00b1c6ce-15e1-499b-8d57-f02309a009e6",
   "metadata": {},
   "source": [
    "### Addition Chain"
   ]
  },
  {
   "cell_type": "code",
   "execution_count": 6,
   "id": "d045ff6b",
   "metadata": {},
   "outputs": [
    {
     "name": "stdout",
     "output_type": "stream",
     "text": [
      "Requires 4 rounds\n",
      "muls: 3, free squares: 10, bits: 16 in 4 rounds\n",
      "Round 1 [free]: 2 = 1 + 1, 4 = 2 + 2, 8 = 4 + 4\n",
      "Round 1: \n",
      "Round 2 [free]: \n",
      "Round 2: 3 = 1 + 2, 5 = 1 + 4\n",
      "Round 3 [free]: 6 = 3 + 3, 12 = 6 + 6, 9 = 12 + 12, 10 = 5 + 5\n",
      "Round 3: 7 = 1 + 6\n",
      "Round 4 [free]: 14 = 7 + 7, 13 = 14 + 14, 11 = 13 + 13\n",
      "Round 4: \n"
     ]
    }
   ],
   "source": [
    "res = spnutils.shallow_dense_addition_chain(values=[i for i,ci in enumerate(c) if ci != 0], n=4, doubles=[1,3,5,7])\n",
    "print(f'Requires {res.required_levels()} rounds')\n",
    "muls, squares, bd = res.required_additions()\n",
    "print(f'muls: {muls+squares}, free squares: {len(res._frees)}, bits: {4 * bd} in {res.required_levels()} rounds')\n",
    "res.print_levels()"
   ]
  },
  {
   "cell_type": "code",
   "execution_count": 7,
   "id": "f4102072",
   "metadata": {},
   "outputs": [],
   "source": [
    "def serial_mixing_matrix(F, zi):\n",
    "    \"\"\" Returns the mixing matrix of the step \"MixColumnsSerial\" of the PHOTON permutation (https://eprint.iacr.org/2011/609) \"\"\"\n",
    "    d = len(zi)\n",
    "    A = matrix(F, d, d, 0)\n",
    "    for i in range(d-1):\n",
    "        A[i,i+1] = F(1)\n",
    "    for i in range(d):\n",
    "        A[d-1,i] = zi[i]\n",
    "    for i in range(d):\n",
    "        A *= A\n",
    "    return A"
   ]
  },
  {
   "cell_type": "code",
   "execution_count": 8,
   "id": "f5e644ae",
   "metadata": {},
   "outputs": [
    {
     "name": "stdout",
     "output_type": "stream",
     "text": [
      "[0x0,0x0,0x1,0x0,0x0]\n",
      "[0x0,0x0,0x0,0x1,0x0]\n",
      "[0x0,0x0,0x0,0x0,0x1]\n",
      "[0x1,0x2,0x9,0x9,0x2]\n",
      "[0x2,0x5,0x3,0x8,0xd]\n"
     ]
    }
   ],
   "source": [
    "A_5 = serial_mixing_matrix(F4, [spnutils.natural_encoding(F4, x) for x in [1,2,9,9,2]])\n",
    "for i in range(5):\n",
    "    c = ','.join(f'0x{spnutils.natural_encoding_to_int(A_5[i,j]):x}' for j in range(5))\n",
    "    print(f'[{c}]')"
   ]
  },
  {
   "cell_type": "markdown",
   "id": "3ea17e93-5e10-4b4b-a0de-0100c5c9ebe3",
   "metadata": {},
   "source": [
    "### Find Embedding for MP-SPDZ implementation"
   ]
  },
  {
   "cell_type": "code",
   "execution_count": 9,
   "id": "fcc74a8f",
   "metadata": {},
   "outputs": [
    {
     "name": "stdout",
     "output_type": "stream",
     "text": [
      "Embedding from Finite Field in x of size 2^4 to Finite Field in Y of size 2^40 via Y^35 + Y^20 + Y^15\n"
     ]
    }
   ],
   "source": [
    "Y = polygen(GF(2), 'Y')\n",
    "F40 = GF(2**40, name='Y', modulus=Y^40 + Y^20 + Y^15 + Y^10 + 1) # the target field used in MP-SPDZ\n",
    "embedding, _ = embedding.find_min_cost_embedding(F4, F40)\n",
    "print(embedding)"
   ]
  },
  {
   "cell_type": "markdown",
   "id": "161ca122-5290-4cf4-acba-0a2242f926d5",
   "metadata": {},
   "source": [
    "#### Code to embed coefficients x0,x1,x2,x3 of F4 into F40 (y0,y5,y10,y15,y20,y30,y35)"
   ]
  },
  {
   "cell_type": "code",
   "execution_count": 10,
   "id": "24c8eb3d",
   "metadata": {},
   "outputs": [
    {
     "name": "stdout",
     "output_type": "stream",
     "text": [
      "y0 = x0\n",
      "y5 = x2 + x3\n",
      "y10 = x2\n",
      "y15 = x1 + x2 + x3\n",
      "y20 = x1\n",
      "y30 = x2\n",
      "y35 = x1\n"
     ]
    }
   ],
   "source": [
    "embedding.print_impl_forward()"
   ]
  },
  {
   "cell_type": "markdown",
   "id": "5e427a34-2ec5-4a82-8a71-0a9ca84ac00b",
   "metadata": {},
   "source": [
    "#### Code to reverse the embedding from F40 to F4"
   ]
  },
  {
   "cell_type": "code",
   "execution_count": 11,
   "id": "caa0f33c",
   "metadata": {},
   "outputs": [
    {
     "name": "stdout",
     "output_type": "stream",
     "text": [
      "x0 = y0\n",
      "x1 = y5 + y15\n",
      "x2 = y10\n",
      "x3 = y5 + y10\n"
     ]
    }
   ],
   "source": [
    "embedding.print_impl_backward()"
   ]
  },
  {
   "cell_type": "markdown",
   "id": "1006bbc9-5b09-4c6c-b2f0-673582594a9c",
   "metadata": {},
   "source": [
    "### CRV Polynomial Decomposition"
   ]
  },
  {
   "cell_type": "code",
   "execution_count": 12,
   "id": "379f76d7",
   "metadata": {},
   "outputs": [],
   "source": [
    "# this code generates a random q polynomial\n",
    "# instance = crv.CRV(F4, [0,1,3])\n",
    "# instance.find_q_polynomials()\n",
    "\n",
    "# this code uses the q polynomial from the paper\n",
    "instance = crv.CRV(F4, [0,1,3])\n",
    "q0 = [spnutils.natural_encoding(F4, c) for c in [0x0,0x6,0x4,0xd,0x3,0x4,0x8,0xb,0x8]]\n",
    "instance.set_q_polynomials([q0])"
   ]
  },
  {
   "cell_type": "code",
   "execution_count": 13,
   "id": "ec25fd64",
   "metadata": {},
   "outputs": [],
   "source": [
    "res = instance.polynomial_decomposition(PHOTON_S4)"
   ]
  },
  {
   "cell_type": "code",
   "execution_count": 14,
   "id": "f35228f1",
   "metadata": {},
   "outputs": [
    {
     "name": "stdout",
     "output_type": "stream",
     "text": [
      "0x6 z^1,0x4 z^2,0xd z^3,0x3 z^4,0x4 z^6,0x8 z^8,0xb z^9,0x8 z^12\n"
     ]
    }
   ],
   "source": [
    "for q in res.q:\n",
    "    print(','.join(f'0x{spnutils.natural_encoding_to_int(c):x} z^{i}' for i,c in enumerate(q.coefficients(sparse=False)) if c != 0))"
   ]
  },
  {
   "cell_type": "code",
   "execution_count": 15,
   "id": "ec688447",
   "metadata": {},
   "outputs": [
    {
     "name": "stdout",
     "output_type": "stream",
     "text": [
      "0xd z^0,0x7 z^1,0xc z^2,0x7 z^3,0xe z^5,0xb z^6,0x2 z^7,0x1 z^8\n",
      "0xc z^0,0xc z^1,0xd z^2,0xb z^4,0x7 z^5,0xd z^6\n"
     ]
    }
   ],
   "source": [
    "for p in res.p:\n",
    "    pi = [F4(list(c)[0]) for c in p]\n",
    "    print(','.join(f'0x{spnutils.natural_encoding_to_int(c):x} z^{i}' for i,c in enumerate(pi) if c != 0))"
   ]
  },
  {
   "cell_type": "markdown",
   "id": "bdd12a94-13bd-4aa1-9f9e-3a019f532ab4",
   "metadata": {},
   "source": [
    "### Code for free squaring in F4"
   ]
  },
  {
   "cell_type": "code",
   "execution_count": 16,
   "id": "7fbd6f56",
   "metadata": {},
   "outputs": [
    {
     "data": {
      "text/plain": [
       "[1 0 1 0]\n",
       "[0 0 1 0]\n",
       "[0 1 0 1]\n",
       "[0 0 0 1]"
      ]
     },
     "execution_count": 16,
     "metadata": {},
     "output_type": "execute_result"
    }
   ],
   "source": [
    "spnutils.gf_squaring(F4)"
   ]
  },
  {
   "cell_type": "code",
   "execution_count": 17,
   "id": "656a14af",
   "metadata": {},
   "outputs": [
    {
     "name": "stdout",
     "output_type": "stream",
     "text": [
      "2: \n",
      "    y0 = x3\n",
      "    y1 = x0 + x3\n",
      "    y2 = x1\n",
      "    y3 = x2\n",
      "3: \n",
      "    y0 = x0 + x3\n",
      "    y1 = x0 + x1 + x3\n",
      "    y2 = x1 + x2\n",
      "    y3 = x2 + x3\n",
      "5: \n",
      "    y0 = x0 + x2\n",
      "    y1 = x1 + x2 + x3\n",
      "    y2 = x0 + x2 + x3\n",
      "    y3 = x1 + x3\n",
      "8: \n",
      "    y0 = x1\n",
      "    y1 = x1 + x2\n",
      "    y2 = x2 + x3\n",
      "    y3 = x0 + x3\n",
      "9: \n",
      "    y0 = x0 + x1\n",
      "    y1 = x2\n",
      "    y2 = x3\n",
      "    y3 = x0\n",
      "10: \n",
      "    y0 = x1 + x3\n",
      "    y1 = x0 + x1 + x2 + x3\n",
      "    y2 = x1 + x2 + x3\n",
      "    y3 = x0 + x2 + x3\n",
      "11: \n",
      "    y0 = x0 + x1 + x3\n",
      "    y1 = x0 + x2 + x3\n",
      "    y2 = x1 + x3\n",
      "    y3 = x0 + x2\n",
      "12: \n",
      "    y0 = x1 + x2\n",
      "    y1 = x1 + x3\n",
      "    y2 = x0 + x2\n",
      "    y3 = x0 + x1 + x3\n",
      "13: \n",
      "    y0 = x0 + x1 + x2\n",
      "    y1 = x3\n",
      "    y2 = x0\n",
      "    y3 = x0 + x1\n",
      "14: \n",
      "    y0 = x1 + x2 + x3\n",
      "    y1 = x0 + x1\n",
      "    y2 = x0 + x1 + x2\n",
      "    y3 = x0 + x1 + x2 + x3\n",
      "15: \n",
      "    y0 = x0 + x1 + x2 + x3\n",
      "    y1 = x0\n",
      "    y2 = x0 + x1\n",
      "    y3 = x0 + x1 + x2\n"
     ]
    }
   ],
   "source": [
    "spnutils.print_cmul_code(F4, [2,3,5,8,9,10,11,12,13,14,15])"
   ]
  },
  {
   "cell_type": "code",
   "execution_count": 18,
   "id": "97b04bb1",
   "metadata": {},
   "outputs": [],
   "source": [
    "F8 = GF(2**8, name=x, modulus=x**8 + x**4 + x**3 + x + 1)"
   ]
  },
  {
   "cell_type": "code",
   "execution_count": 19,
   "id": "b3dfc5f3",
   "metadata": {},
   "outputs": [
    {
     "name": "stdout",
     "output_type": "stream",
     "text": [
      "[1, 2, 3, 4, 6, 7, 8, 9, 11, 14, 17, 22, 24, 31, 34, 36, 37, 59, 66, 75, 103, 111, 121, 132, 144, 150, 153, 155, 167, 203, 210, 228, 239]\n"
     ]
    }
   ],
   "source": [
    "cmuls = [[2,3,1,2,1,4],\n",
    "    [8, 14, 7, 9, 6, 17],\n",
    "    [34, 59, 31, 37, 24, 66],\n",
    "    [132, 228, 121, 155, 103, 11],\n",
    "    [22, 153, 239, 111, 144, 75],\n",
    "    [150, 203, 210, 121, 36, 167]]\n",
    "cmuls = set(x for l in cmuls for x in l)\n",
    "cmuls = sorted(cmuls)\n",
    "print(cmuls)"
   ]
  },
  {
   "cell_type": "code",
   "execution_count": 20,
   "id": "f213d354",
   "metadata": {},
   "outputs": [
    {
     "name": "stdout",
     "output_type": "stream",
     "text": [
      "1: \n",
      "    y0 = x0\n",
      "    y1 = x1\n",
      "    y2 = x2\n",
      "    y3 = x3\n",
      "    y4 = x4\n",
      "    y5 = x5\n",
      "    y6 = x6\n",
      "    y7 = x7\n",
      "2: \n",
      "    y0 = x7\n",
      "    y1 = x0 + x7\n",
      "    y2 = x1\n",
      "    y3 = x2 + x7\n",
      "    y4 = x3 + x7\n",
      "    y5 = x4\n",
      "    y6 = x5\n",
      "    y7 = x6\n",
      "3: \n",
      "    y0 = x0 + x7\n",
      "    y1 = x0 + x1 + x7\n",
      "    y2 = x1 + x2\n",
      "    y3 = x2 + x3 + x7\n",
      "    y4 = x3 + x4 + x7\n",
      "    y5 = x4 + x5\n",
      "    y6 = x5 + x6\n",
      "    y7 = x6 + x7\n",
      "4: \n",
      "    y0 = x6\n",
      "    y1 = x6 + x7\n",
      "    y2 = x0 + x7\n",
      "    y3 = x1 + x6\n",
      "    y4 = x2 + x6 + x7\n",
      "    y5 = x3 + x7\n",
      "    y6 = x4\n",
      "    y7 = x5\n",
      "6: \n",
      "    y0 = x6 + x7\n",
      "    y1 = x0 + x6\n",
      "    y2 = x0 + x1 + x7\n",
      "    y3 = x1 + x2 + x6 + x7\n",
      "    y4 = x2 + x3 + x6\n",
      "    y5 = x3 + x4 + x7\n",
      "    y6 = x4 + x5\n",
      "    y7 = x5 + x6\n",
      "7: \n",
      "    y0 = x0 + x6 + x7\n",
      "    y1 = x0 + x1 + x6\n",
      "    y2 = x0 + x1 + x2 + x7\n",
      "    y3 = x1 + x2 + x3 + x6 + x7\n",
      "    y4 = x2 + x3 + x4 + x6\n",
      "    y5 = x3 + x4 + x5 + x7\n",
      "    y6 = x4 + x5 + x6\n",
      "    y7 = x5 + x6 + x7\n",
      "8: \n",
      "    y0 = x5\n",
      "    y1 = x5 + x6\n",
      "    y2 = x6 + x7\n",
      "    y3 = x0 + x5 + x7\n",
      "    y4 = x1 + x5 + x6\n",
      "    y5 = x2 + x6 + x7\n",
      "    y6 = x3 + x7\n",
      "    y7 = x4\n",
      "9: \n",
      "    y0 = x0 + x5\n",
      "    y1 = x1 + x5 + x6\n",
      "    y2 = x2 + x6 + x7\n",
      "    y3 = x0 + x3 + x5 + x7\n",
      "    y4 = x1 + x4 + x5 + x6\n",
      "    y5 = x2 + x5 + x6 + x7\n",
      "    y6 = x3 + x6 + x7\n",
      "    y7 = x4 + x7\n",
      "11: \n",
      "    y0 = x0 + x5 + x7\n",
      "    y1 = x0 + x1 + x5 + x6 + x7\n",
      "    y2 = x1 + x2 + x6 + x7\n",
      "    y3 = x0 + x2 + x3 + x5\n",
      "    y4 = x1 + x3 + x4 + x5 + x6 + x7\n",
      "    y5 = x2 + x4 + x5 + x6 + x7\n",
      "    y6 = x3 + x5 + x6 + x7\n",
      "    y7 = x4 + x6 + x7\n",
      "14: \n",
      "    y0 = x5 + x6 + x7\n",
      "    y1 = x0 + x5\n",
      "    y2 = x0 + x1 + x6\n",
      "    y3 = x0 + x1 + x2 + x5 + x6\n",
      "    y4 = x1 + x2 + x3 + x5\n",
      "    y5 = x2 + x3 + x4 + x6\n",
      "    y6 = x3 + x4 + x5 + x7\n",
      "    y7 = x4 + x5 + x6\n",
      "17: \n",
      "    y0 = x0 + x4\n",
      "    y1 = x1 + x4 + x5\n",
      "    y2 = x2 + x5 + x6\n",
      "    y3 = x3 + x4 + x6 + x7\n",
      "    y4 = x0 + x5 + x7\n",
      "    y5 = x1 + x6\n",
      "    y6 = x2 + x7\n",
      "    y7 = x3\n",
      "22: \n",
      "    y0 = x4 + x6 + x7\n",
      "    y1 = x0 + x4 + x5 + x6\n",
      "    y2 = x0 + x1 + x5 + x6 + x7\n",
      "    y3 = x1 + x2 + x4\n",
      "    y4 = x0 + x2 + x3 + x4 + x5 + x6 + x7\n",
      "    y5 = x1 + x3 + x4 + x5 + x6 + x7\n",
      "    y6 = x2 + x4 + x5 + x6 + x7\n",
      "    y7 = x3 + x5 + x6 + x7\n",
      "24: \n",
      "    y0 = x4 + x5\n",
      "    y1 = x4 + x6\n",
      "    y2 = x5 + x7\n",
      "    y3 = x0 + x4 + x5 + x6\n",
      "    y4 = x0 + x1 + x4 + x6 + x7\n",
      "    y5 = x1 + x2 + x5 + x7\n",
      "    y6 = x2 + x3 + x6\n",
      "    y7 = x3 + x4 + x7\n",
      "31: \n",
      "    y0 = x0 + x4 + x5 + x6 + x7\n",
      "    y1 = x0 + x1 + x4\n",
      "    y2 = x0 + x1 + x2 + x5\n",
      "    y3 = x0 + x1 + x2 + x3 + x4 + x5 + x7\n",
      "    y4 = x0 + x1 + x2 + x3 + x7\n",
      "    y5 = x1 + x2 + x3 + x4\n",
      "    y6 = x2 + x3 + x4 + x5\n",
      "    y7 = x3 + x4 + x5 + x6\n",
      "34: \n",
      "    y0 = x3\n",
      "    y1 = x0 + x3 + x4\n",
      "    y2 = x1 + x4 + x5\n",
      "    y3 = x2 + x3 + x5 + x6\n",
      "    y4 = x4 + x6 + x7\n",
      "    y5 = x0 + x5 + x7\n",
      "    y6 = x1 + x6\n",
      "    y7 = x2 + x7\n",
      "36: \n",
      "    y0 = x3 + x6 + x7\n",
      "    y1 = x3 + x4 + x6\n",
      "    y2 = x0 + x4 + x5 + x7\n",
      "    y3 = x1 + x3 + x5 + x7\n",
      "    y4 = x2 + x3 + x4 + x7\n",
      "    y5 = x0 + x3 + x4 + x5\n",
      "    y6 = x1 + x4 + x5 + x6\n",
      "    y7 = x2 + x5 + x6 + x7\n",
      "37: \n",
      "    y0 = x0 + x3 + x6 + x7\n",
      "    y1 = x1 + x3 + x4 + x6\n",
      "    y2 = x0 + x2 + x4 + x5 + x7\n",
      "    y3 = x1 + x5 + x7\n",
      "    y4 = x2 + x3 + x7\n",
      "    y5 = x0 + x3 + x4\n",
      "    y6 = x1 + x4 + x5\n",
      "    y7 = x2 + x5 + x6\n",
      "59: \n",
      "    y0 = x0 + x3 + x4 + x5\n",
      "    y1 = x0 + x1 + x3 + x6\n",
      "    y2 = x1 + x2 + x4 + x7\n",
      "    y3 = x0 + x2 + x4\n",
      "    y4 = x0 + x1 + x4\n",
      "    y5 = x0 + x1 + x2 + x5\n",
      "    y6 = x1 + x2 + x3 + x6\n",
      "    y7 = x2 + x3 + x4 + x7\n",
      "66: \n",
      "    y0 = x2 + x6\n",
      "    y1 = x0 + x2 + x3 + x6 + x7\n",
      "    y2 = x1 + x3 + x4 + x7\n",
      "    y3 = x4 + x5 + x6\n",
      "    y4 = x2 + x5 + x7\n",
      "    y5 = x3 + x6\n",
      "    y6 = x0 + x4 + x7\n",
      "    y7 = x1 + x5\n",
      "75: \n",
      "    y0 = x0 + x2 + x5 + x6\n",
      "    y1 = x0 + x1 + x2 + x3 + x5 + x7\n",
      "    y2 = x1 + x2 + x3 + x4 + x6\n",
      "    y3 = x0 + x3 + x4 + x6 + x7\n",
      "    y4 = x1 + x2 + x4 + x6 + x7\n",
      "    y5 = x2 + x3 + x5 + x7\n",
      "    y6 = x0 + x3 + x4 + x6\n",
      "    y7 = x1 + x4 + x5 + x7\n",
      "103: \n",
      "    y0 = x0 + x2 + x3 + x7\n",
      "    y1 = x0 + x1 + x2 + x4 + x7\n",
      "    y2 = x0 + x1 + x2 + x3 + x5\n",
      "    y3 = x1 + x4 + x6 + x7\n",
      "    y4 = x3 + x5\n",
      "    y5 = x0 + x4 + x6\n",
      "    y6 = x0 + x1 + x5 + x7\n",
      "    y7 = x1 + x2 + x6\n",
      "111: \n",
      "    y0 = x0 + x2 + x3 + x5 + x7\n",
      "    y1 = x0 + x1 + x2 + x4 + x5 + x6 + x7\n",
      "    y2 = x0 + x1 + x2 + x3 + x5 + x6 + x7\n",
      "    y3 = x0 + x1 + x4 + x5 + x6\n",
      "    y4 = x1 + x3 + x6\n",
      "    y5 = x0 + x2 + x4 + x7\n",
      "    y6 = x0 + x1 + x3 + x5\n",
      "    y7 = x1 + x2 + x4 + x6\n",
      "121: \n",
      "    y0 = x0 + x2 + x3 + x4 + x5 + x6\n",
      "    y1 = x1 + x2 + x7\n",
      "    y2 = x2 + x3\n",
      "    y3 = x0 + x2 + x5 + x6\n",
      "    y4 = x0 + x1 + x2 + x4 + x5 + x7\n",
      "    y5 = x0 + x1 + x2 + x3 + x5 + x6\n",
      "    y6 = x0 + x1 + x2 + x3 + x4 + x6 + x7\n",
      "    y7 = x1 + x2 + x3 + x4 + x5 + x7\n",
      "132: \n",
      "    y0 = x1 + x5\n",
      "    y1 = x1 + x2 + x5 + x6\n",
      "    y2 = x0 + x2 + x3 + x6 + x7\n",
      "    y3 = x3 + x4 + x5 + x7\n",
      "    y4 = x1 + x4 + x6\n",
      "    y5 = x2 + x5 + x7\n",
      "    y6 = x3 + x6\n",
      "    y7 = x0 + x4 + x7\n",
      "144: \n",
      "    y0 = x1 + x4 + x5 + x6\n",
      "    y1 = x1 + x2 + x4 + x7\n",
      "    y2 = x2 + x3 + x5\n",
      "    y3 = x1 + x3 + x5\n",
      "    y4 = x0 + x1 + x2 + x5\n",
      "    y5 = x1 + x2 + x3 + x6\n",
      "    y6 = x2 + x3 + x4 + x7\n",
      "    y7 = x0 + x3 + x4 + x5\n",
      "150: \n",
      "    y0 = x1 + x4 + x5 + x7\n",
      "    y1 = x0 + x1 + x2 + x4 + x6 + x7\n",
      "    y2 = x0 + x1 + x2 + x3 + x5 + x7\n",
      "    y3 = x2 + x3 + x5 + x6 + x7\n",
      "    y4 = x0 + x1 + x3 + x5 + x6\n",
      "    y5 = x1 + x2 + x4 + x6 + x7\n",
      "    y6 = x2 + x3 + x5 + x7\n",
      "    y7 = x0 + x3 + x4 + x6\n",
      "153: \n",
      "    y0 = x0 + x1 + x4 + x6\n",
      "    y1 = x2 + x4 + x5 + x6 + x7\n",
      "    y2 = x3 + x5 + x6 + x7\n",
      "    y3 = x0 + x1 + x7\n",
      "    y4 = x0 + x2 + x4 + x6\n",
      "    y5 = x1 + x3 + x5 + x7\n",
      "    y6 = x2 + x4 + x6\n",
      "    y7 = x0 + x3 + x5 + x7\n",
      "155: \n",
      "    y0 = x0 + x1 + x4 + x6 + x7\n",
      "    y1 = x0 + x2 + x4 + x5 + x6\n",
      "    y2 = x1 + x3 + x5 + x6 + x7\n",
      "    y3 = x0 + x1 + x2\n",
      "    y4 = x0 + x2 + x3 + x4 + x6 + x7\n",
      "    y5 = x1 + x3 + x4 + x5 + x7\n",
      "    y6 = x2 + x4 + x5 + x6\n",
      "    y7 = x0 + x3 + x5 + x6 + x7\n",
      "167: \n",
      "    y0 = x0 + x1 + x3 + x5\n",
      "    y1 = x0 + x2 + x3 + x4 + x5 + x6\n",
      "    y2 = x0 + x1 + x3 + x4 + x5 + x6 + x7\n",
      "    y3 = x2 + x3 + x4 + x6 + x7\n",
      "    y4 = x1 + x4 + x7\n",
      "    y5 = x0 + x2 + x5\n",
      "    y6 = x1 + x3 + x6\n",
      "    y7 = x0 + x2 + x4 + x7\n",
      "203: \n",
      "    y0 = x0 + x1 + x2\n",
      "    y1 = x0 + x3\n",
      "    y2 = x1 + x4\n",
      "    y3 = x0 + x1 + x5\n",
      "    y4 = x6\n",
      "    y5 = x7\n",
      "    y6 = x0\n",
      "    y7 = x0 + x1\n",
      "210: \n",
      "    y0 = x1 + x2 + x4 + x5\n",
      "    y1 = x0 + x1 + x3 + x4 + x6\n",
      "    y2 = x1 + x2 + x4 + x5 + x7\n",
      "    y3 = x1 + x3 + x4 + x6\n",
      "    y4 = x0 + x1 + x7\n",
      "    y5 = x1 + x2\n",
      "    y6 = x0 + x2 + x3\n",
      "    y7 = x0 + x1 + x3 + x4\n",
      "228: \n",
      "    y0 = x1 + x2 + x3 + x5 + x6\n",
      "    y1 = x1 + x4 + x5 + x7\n",
      "    y2 = x0 + x2 + x5 + x6\n",
      "    y3 = x2 + x5 + x7\n",
      "    y4 = x1 + x2 + x5\n",
      "    y5 = x0 + x2 + x3 + x6\n",
      "    y6 = x0 + x1 + x3 + x4 + x7\n",
      "    y7 = x0 + x1 + x2 + x4 + x5\n",
      "239: \n",
      "    y0 = x0 + x1 + x2 + x3 + x6 + x7\n",
      "    y1 = x0 + x4 + x6\n",
      "    y2 = x0 + x1 + x5 + x7\n",
      "    y3 = x0 + x3 + x7\n",
      "    y4 = x2 + x3 + x4 + x6 + x7\n",
      "    y5 = x0 + x3 + x4 + x5 + x7\n",
      "    y6 = x0 + x1 + x4 + x5 + x6\n",
      "    y7 = x0 + x1 + x2 + x5 + x6 + x7\n"
     ]
    }
   ],
   "source": [
    "spnutils.print_cmul_code(F8, cmuls)"
   ]
  },
  {
   "cell_type": "code",
   "execution_count": null,
   "id": "e7bd7370",
   "metadata": {},
   "outputs": [],
   "source": []
  }
 ],
 "metadata": {
  "kernelspec": {
   "display_name": "SageMath 10.1",
   "language": "sage",
   "name": "sagemath"
  },
  "language_info": {
   "codemirror_mode": {
    "name": "ipython",
    "version": 3
   },
   "file_extension": ".py",
   "mimetype": "text/x-python",
   "name": "python",
   "nbconvert_exporter": "python",
   "pygments_lexer": "ipython3",
   "version": "3.11.5"
  }
 },
 "nbformat": 4,
 "nbformat_minor": 5
}
